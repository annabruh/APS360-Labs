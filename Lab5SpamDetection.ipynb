{
  "cells": [
    {
      "cell_type": "markdown",
      "metadata": {
        "id": "_bphECiUa9zw"
      },
      "source": [
        "# Lab 5: Spam Detection\n",
        "\n",
        "In this assignment, we will build a recurrent neural network to classify a SMS text message\n",
        "as \"spam\" or \"not spam\". In the process, you will\n",
        "    \n",
        "1. Clean and process text data for machine learning.\n",
        "2. Understand and implement a character-level recurrent neural network.\n",
        "3. Use torchtext to build recurrent neural network models.\n",
        "4. Understand batching for a recurrent neural network, and use torchtext to implement RNN batching.\n",
        "\n",
        "### What to submit\n",
        "\n",
        "Submit a PDF file containing all your code, outputs, and write-up. You can produce a PDF of your Google Colab file by going to File > Print and then save as PDF. The Colab instructions have more information.\n",
        "\n",
        "Do not submit any other files produced by your code.\n",
        "\n",
        "Include a link to your colab file in your submission."
      ]
    },
    {
      "cell_type": "markdown",
      "metadata": {
        "id": "rWiUqJJTa9z6"
      },
      "source": [
        "## Colab Link\n",
        "\n",
        "Include a link to your Colab file here. If you would like the TA to look at your\n",
        "Colab file in case your solutions are cut off, **please make sure that your Colab\n",
        "file is publicly accessible at the time of submission**."
      ]
    },
    {
      "cell_type": "markdown",
      "metadata": {
        "id": "Z00UhKx2m8Ts"
      },
      "source": [
        "Colab Link: https://colab.research.google.com/drive/1-5geMOpZxSkjDS81TqVWhlacCBYPY_k1?usp=sharing"
      ]
    },
    {
      "cell_type": "markdown",
      "metadata": {
        "id": "GEcKWprHm8Ts"
      },
      "source": [
        "As we are using the older version of the torchtext, please run the following to downgrade the torchtext version:"
      ]
    },
    {
      "cell_type": "markdown",
      "metadata": {
        "id": "irbgBRPAm8Ts"
      },
      "source": [
        "!pip install -U torch==1.8.0+cu111 torchtext==0.9.0 -f https://download.pytorch.org/whl/torch_stable.html"
      ]
    },
    {
      "cell_type": "code",
      "source": [
        "!pip install -U torch==1.13.1+cu116 torchtext==0.6.0 -f https://download.pytorch.org/whl/torch_stable.html"
      ],
      "metadata": {
        "colab": {
          "base_uri": "https://localhost:8080/"
        },
        "id": "mJPdEj3piE4b",
        "outputId": "5cf15d1e-64ab-4be3-eb9f-11158efb7974"
      },
      "execution_count": 1,
      "outputs": [
        {
          "output_type": "stream",
          "name": "stdout",
          "text": [
            "Looking in links: https://download.pytorch.org/whl/torch_stable.html\n",
            "Requirement already satisfied: torch==1.13.1+cu116 in /usr/local/lib/python3.10/dist-packages (1.13.1+cu116)\n",
            "Requirement already satisfied: torchtext==0.6.0 in /usr/local/lib/python3.10/dist-packages (0.6.0)\n",
            "Requirement already satisfied: typing-extensions in /usr/local/lib/python3.10/dist-packages (from torch==1.13.1+cu116) (4.12.2)\n",
            "Requirement already satisfied: tqdm in /usr/local/lib/python3.10/dist-packages (from torchtext==0.6.0) (4.66.4)\n",
            "Requirement already satisfied: requests in /usr/local/lib/python3.10/dist-packages (from torchtext==0.6.0) (2.31.0)\n",
            "Requirement already satisfied: numpy in /usr/local/lib/python3.10/dist-packages (from torchtext==0.6.0) (1.25.2)\n",
            "Requirement already satisfied: six in /usr/local/lib/python3.10/dist-packages (from torchtext==0.6.0) (1.16.0)\n",
            "Requirement already satisfied: sentencepiece in /usr/local/lib/python3.10/dist-packages (from torchtext==0.6.0) (0.1.99)\n",
            "Requirement already satisfied: charset-normalizer<4,>=2 in /usr/local/lib/python3.10/dist-packages (from requests->torchtext==0.6.0) (3.3.2)\n",
            "Requirement already satisfied: idna<4,>=2.5 in /usr/local/lib/python3.10/dist-packages (from requests->torchtext==0.6.0) (3.7)\n",
            "Requirement already satisfied: urllib3<3,>=1.21.1 in /usr/local/lib/python3.10/dist-packages (from requests->torchtext==0.6.0) (2.0.7)\n",
            "Requirement already satisfied: certifi>=2017.4.17 in /usr/local/lib/python3.10/dist-packages (from requests->torchtext==0.6.0) (2024.7.4)\n"
          ]
        }
      ]
    },
    {
      "cell_type": "markdown",
      "metadata": {
        "id": "pklR6A3Am8Ts"
      },
      "source": [
        "If you are interested to use the most recent version if torchtext, you can look at the following document to see how to convert the legacy version to the new version:\n",
        "https://colab.research.google.com/github/pytorch/text/blob/master/examples/legacy_tutorial/migration_tutorial.ipynb"
      ]
    },
    {
      "cell_type": "code",
      "execution_count": 2,
      "metadata": {
        "id": "HgfNOUaPa9z8",
        "tags": []
      },
      "outputs": [],
      "source": [
        "import torch\n",
        "import torch.nn as nn\n",
        "import torch.nn.functional as F\n",
        "import torch.optim as optim\n",
        "import numpy as np"
      ]
    },
    {
      "cell_type": "markdown",
      "metadata": {
        "id": "M0jLI9LBa90C"
      },
      "source": [
        "## Part 1. Data Cleaning [15 pt]\n",
        "\n",
        "We will be using the \"SMS Spam Collection Data Set\" available at http://archive.ics.uci.edu/ml/datasets/SMS+Spam+Collection\n",
        "\n",
        "There is a link to download the \"Data Folder\" at the very top of the webpage. Download the zip file, unzip it, and upload the file `SMSSpamCollection` to Colab.    "
      ]
    },
    {
      "cell_type": "markdown",
      "metadata": {
        "id": "sSuF7C_Ga90E"
      },
      "source": [
        "### Part (a) [2 pt]\n",
        "\n",
        "Open up the file in Python, and print out one example of a spam SMS, and one example of a non-spam SMS.\n",
        "\n",
        "What is the label value for a spam message, and what is the label value for a non-spam message?"
      ]
    },
    {
      "cell_type": "code",
      "execution_count": 3,
      "metadata": {
        "id": "I_IfXHeTa90F",
        "jupyter": {
          "outputs_hidden": true
        },
        "colab": {
          "base_uri": "https://localhost:8080/"
        },
        "outputId": "cc94b12c-b53f-4f0e-fa01-9ae61c4f53fd"
      },
      "outputs": [
        {
          "output_type": "stream",
          "name": "stdout",
          "text": [
            "ham\tGo until jurong point, crazy.. Available only in bugis n great world la e buffet... Cine there got amore wat...\n",
            "\n",
            "spam\tFree entry in 2 a wkly comp to win FA Cup final tkts 21st May 2005. Text FA to 87121 to receive entry question(std txt rate)T&C's apply 08452810075over18's\n",
            "\n"
          ]
        }
      ],
      "source": [
        "for line in open('SMSSpamCollection'):\n",
        "  if line[0:3] == 'ham':\n",
        "    print(line)\n",
        "    break\n",
        "\n",
        "for line in open('SMSSpamCollection'):\n",
        "  if line[0:4] == 'spam':\n",
        "    print(line)\n",
        "    break"
      ]
    },
    {
      "cell_type": "markdown",
      "source": [
        "The label value for a spam message is \"spam\", and the label value for a non-spam message is \"ham\"."
      ],
      "metadata": {
        "id": "wriXet393pEV"
      }
    },
    {
      "cell_type": "markdown",
      "metadata": {
        "id": "AukA6vMVa90d"
      },
      "source": [
        "### Part (b) [1 pt]\n",
        "\n",
        "How many spam messages are there in the data set?\n",
        "How many non-spam messages are there in the data set?\n"
      ]
    },
    {
      "cell_type": "code",
      "execution_count": 4,
      "metadata": {
        "collapsed": true,
        "id": "LgsqyemVa90e",
        "jupyter": {
          "outputs_hidden": true
        },
        "colab": {
          "base_uri": "https://localhost:8080/"
        },
        "outputId": "78b98278-a175-4cfc-8448-8bb75a8882f5"
      },
      "outputs": [
        {
          "output_type": "stream",
          "name": "stdout",
          "text": [
            "There are 4827 non-spam messages in the data set\n",
            "There are 747 spam messages in the data set\n"
          ]
        }
      ],
      "source": [
        "spam_count = 0\n",
        "ham_count = 0\n",
        "\n",
        "for line in open('SMSSpamCollection'):\n",
        "  if line[0:3] == 'ham':\n",
        "    ham_count += 1\n",
        "  elif line[0:4] == 'spam':\n",
        "    spam_count += 1\n",
        "\n",
        "print(\"There are \" + str(ham_count) + \" non-spam messages in the data set\")\n",
        "print(\"There are \" + str(spam_count) + \" spam messages in the data set\")"
      ]
    },
    {
      "cell_type": "markdown",
      "metadata": {
        "id": "d1WXxVt6a90h"
      },
      "source": [
        "### Part (c) [4 pt]\n",
        "\n",
        "We will be using the package `torchtext` to load, process, and batch the data.\n",
        "A tutorial to torchtext is available below. This tutorial uses the same\n",
        "Sentiment140 data set that we explored during lecture.\n",
        "\n",
        "https://medium.com/@sonicboom8/sentiment-analysis-torchtext-55fb57b1fab8\n",
        "\n",
        "Unlike what we did during lecture, we will be building a **character level RNN**.\n",
        "That is, we will treat each **character** as a token in our sequence,\n",
        "rather than each **word**.\n",
        "\n",
        "Identify two advantage and two disadvantage of modelling SMS text\n",
        "messages as a sequence of characters rather than a sequence of words."
      ]
    },
    {
      "cell_type": "markdown",
      "source": [
        "Advantages:\n",
        "\n",
        "\n",
        "*   Less complex since there are less characters than there are words\n",
        "*   Can focus and recognize smaller details such as mistakes in spelling\n",
        "\n",
        "Disadvantages:\n",
        "\n",
        "\n",
        "*   Less attention to the context/meaning of the phrases (harder to catch semantic patterns)\n",
        "*   Higher computational cost due to more parameters\n",
        "\n",
        "\n",
        "\n"
      ],
      "metadata": {
        "id": "Lr8DN0ZQufzU"
      }
    },
    {
      "cell_type": "markdown",
      "metadata": {
        "id": "ie_D0bv9a90k"
      },
      "source": [
        "### Part (d) [1 pt]\n",
        "\n",
        "We will be loading our data set using `torchtext.data.TabularDataset`. The\n",
        "constructor will read directly from the `SMSSpamCollection` file.\n",
        "\n",
        "For the data file to be read successfuly, we\n",
        "need to specify the **fields** (columns) in the file.\n",
        "In our case, the dataset has two fields:\n",
        "\n",
        "- a text field containing the sms messages,\n",
        "- a label field which will be converted into a binary label.\n",
        "\n",
        "Split the dataset into `train`, `valid`, and `test`. Use a 60-20-20 split.\n",
        "You may find this torchtext API page helpful:\n",
        "https://torchtext.readthedocs.io/en/latest/data.html#dataset\n",
        "\n",
        "Hint: There is a `Dataset` method that can perform the random split for you."
      ]
    },
    {
      "cell_type": "code",
      "source": [
        "import torchtext\n",
        "\n",
        "# specifying fields\n",
        "text_field = torchtext.data.Field(tokenize=lambda x:x,\n",
        "                                        include_lengths=True,\n",
        "                                         batch_first = True)\n",
        "label_field = torchtext.data.Field(sequential=False,\n",
        "                                         use_vocab=False,\n",
        "                                         is_target=True,\n",
        "                                          batch_first = True,\n",
        "                                          preprocessing=lambda x: int(x == 'spam')) # convert to binary (spam is 1, ham is 0)\n",
        "fields = [('label', label_field), ('sms', text_field)]\n",
        "\n",
        "dataset = torchtext.data.TabularDataset(path='SMSSpamCollection',\n",
        "                                              format='tsv',\n",
        "                                              fields=fields)\n",
        "\n",
        "train, valid, test = dataset.split(split_ratio=[0.6, 0.2, 0.2]) # splitting dataset"
      ],
      "metadata": {
        "id": "lF26htn60rXX"
      },
      "execution_count": 3,
      "outputs": []
    },
    {
      "cell_type": "markdown",
      "metadata": {
        "id": "v6nP0Ks_a90o"
      },
      "source": [
        "### Part (e) [2 pt]\n",
        "\n",
        "You saw in part (b) that there are many more non-spam messages than spam messages.\n",
        "This **imbalance** in our training data will be problematic for training.\n",
        "We can fix this disparity by duplicating spam messages in the training set,\n",
        "so that the training set is roughly **balanced**.\n",
        "\n",
        "Explain why having a balanced training set is helpful for training our neural network.\n",
        "\n",
        "Note: if you are not sure, try removing the below code and train your mode."
      ]
    },
    {
      "cell_type": "code",
      "execution_count": 4,
      "metadata": {
        "collapsed": true,
        "id": "FWvx9_rka90p",
        "jupyter": {
          "outputs_hidden": true
        }
      },
      "outputs": [],
      "source": [
        "# save the original training examples\n",
        "old_train_examples = train.examples\n",
        "# get all the spam messages in `train`\n",
        "train_spam = []\n",
        "for item in train.examples:\n",
        "    if item.label == 1:\n",
        "        train_spam.append(item)\n",
        "# duplicate each spam message 6 more times\n",
        "train.examples = old_train_examples + train_spam * 6"
      ]
    },
    {
      "cell_type": "markdown",
      "source": [
        "In this case, we have many more non-spam than spam messages which will result in our model performing better on non-spam messages. Thus, when we are testing the data, a higher accuracy could just be a result of there being more non-spam messages in the test dataset. Having a balanced training set is helpful for training our neural network because it will reduce the model's bias so that it can have a relatively similar performance (accuracy) for both classes."
      ],
      "metadata": {
        "id": "jWiTvrrk8L8e"
      }
    },
    {
      "cell_type": "markdown",
      "metadata": {
        "id": "j7eUmBEva90r"
      },
      "source": [
        "### Part (f) [1 pt]\n",
        "\n",
        "We need to build the vocabulary on the training data by running the below code.\n",
        "This finds all the possible character tokens in the training set.\n",
        "\n",
        "Explain what the variables `text_field.vocab.stoi` and `text_field.vocab.itos` represent."
      ]
    },
    {
      "cell_type": "code",
      "execution_count": 5,
      "metadata": {
        "collapsed": true,
        "id": "8CQM8flKa90s",
        "jupyter": {
          "outputs_hidden": true
        },
        "colab": {
          "base_uri": "https://localhost:8080/"
        },
        "outputId": "6dd271d5-5757-44a2-d54e-d0675e4fed5f"
      },
      "outputs": [
        {
          "output_type": "stream",
          "name": "stdout",
          "text": [
            "defaultdict(<bound method Vocab._default_unk_index of <torchtext.vocab.Vocab object at 0x79bb775d1030>>, {'<unk>': 0, '<pad>': 1, ' ': 2, 'e': 3, 'o': 4, 't': 5, 'a': 6, 'n': 7, 'r': 8, 'i': 9, 's': 10, 'l': 11, 'u': 12, 'h': 13, '0': 14, 'd': 15, '.': 16, 'c': 17, 'm': 18, 'y': 19, 'w': 20, 'p': 21, 'g': 22, '1': 23, 'f': 24, 'b': 25, '2': 26, 'T': 27, '8': 28, 'k': 29, 'v': 30, 'E': 31, '5': 32, 'C': 33, 'S': 34, 'O': 35, '4': 36, 'I': 37, 'N': 38, 'x': 39, 'A': 40, '7': 41, '3': 42, '6': 43, '!': 44, 'R': 45, ',': 46, '9': 47, 'P': 48, 'U': 49, 'W': 50, 'M': 51, 'H': 52, 'L': 53, 'D': 54, 'G': 55, 'B': 56, 'F': 57, 'Y': 58, \"'\": 59, '/': 60, '?': 61, '£': 62, '&': 63, 'X': 64, '-': 65, ':': 66, 'z': 67, 'j': 68, 'V': 69, 'K': 70, '*': 71, 'J': 72, ')': 73, '+': 74, ';': 75, 'q': 76, '(': 77, '\"': 78, 'Q': 79, '#': 80, '>': 81, '=': 82, '@': 83, 'Z': 84, 'ü': 85, 'Ü': 86, '|': 87, '\\x92': 88, '$': 89, '‘': 90, '<': 91, '%': 92, '_': 93, '[': 94, ']': 95, '¡': 96, '…': 97, '’': 98, '“': 99, '–': 100, '\\\\': 101, 'é': 102, '\\x94': 103, '~': 104, '»': 105, 'É': 106, 'ì': 107, '—': 108, '┾': 109, '〨': 110, '鈥': 111})\n",
            "['<unk>', '<pad>', ' ', 'e', 'o', 't', 'a', 'n', 'r', 'i', 's', 'l', 'u', 'h', '0', 'd', '.', 'c', 'm', 'y', 'w', 'p', 'g', '1', 'f', 'b', '2', 'T', '8', 'k', 'v', 'E', '5', 'C', 'S', 'O', '4', 'I', 'N', 'x', 'A', '7', '3', '6', '!', 'R', ',', '9', 'P', 'U', 'W', 'M', 'H', 'L', 'D', 'G', 'B', 'F', 'Y', \"'\", '/', '?', '£', '&', 'X', '-', ':', 'z', 'j', 'V', 'K', '*', 'J', ')', '+', ';', 'q', '(', '\"', 'Q', '#', '>', '=', '@', 'Z', 'ü', 'Ü', '|', '\\x92', '$', '‘', '<', '%', '_', '[', ']', '¡', '…', '’', '“', '–', '\\\\', 'é', '\\x94', '~', '»', 'É', 'ì', '—', '┾', '〨', '鈥']\n"
          ]
        }
      ],
      "source": [
        "text_field.build_vocab(train)\n",
        "print(text_field.vocab.stoi)\n",
        "print(text_field.vocab.itos)"
      ]
    },
    {
      "cell_type": "markdown",
      "source": [
        "text_field.vocab.stoi is a dictionary that maps the strings in the vocabulary to their corresponding numerical indices. <br>\n",
        "text_field.vocab.itos is a list that maps the numerical indices to the corresponding string in the vocabulary."
      ],
      "metadata": {
        "id": "_h70Xq-eEZ3w"
      }
    },
    {
      "cell_type": "markdown",
      "metadata": {
        "id": "TC8WVE8Ua90u"
      },
      "source": [
        "### Part (g) [2 pt]\n",
        "\n",
        "The tokens `<unk>` and `<pad>` were not in our SMS text messages.\n",
        "What do these two values represent?"
      ]
    },
    {
      "cell_type": "markdown",
      "source": [
        "\\<unk> means unknown and represents a token that is unknown in the vocabulary. <br>\n",
        "\\<pad> means padding and is inserted to ensure that the sequences are of uniform length."
      ],
      "metadata": {
        "id": "bSupqnzjGYct"
      }
    },
    {
      "cell_type": "markdown",
      "metadata": {
        "id": "Ff5CNk7Qa90y"
      },
      "source": [
        "### Part (h) [2 pt]\n",
        "\n",
        "Since text sequences are of variable length, `torchtext` provides a `BucketIterator` data loader,\n",
        "which batches similar length sequences together. The iterator also provides functionalities to\n",
        "pad sequences automatically.\n",
        "\n",
        "Take a look at 10 batches in `train_iter`. What is the maximum length of the\n",
        "input sequence in each batch? How many `<pad>` tokens are used in each of the 10\n",
        "batches?"
      ]
    },
    {
      "cell_type": "code",
      "execution_count": 6,
      "metadata": {
        "collapsed": true,
        "id": "V8N8qLWOa90y",
        "jupyter": {
          "outputs_hidden": true
        }
      },
      "outputs": [],
      "source": [
        "train_iter = torchtext.data.BucketIterator(train,\n",
        "                                           batch_size=32,\n",
        "                                           sort_key=lambda x: len(x.sms), # to minimize padding\n",
        "                                           sort_within_batch=True,        # sort within each batch\n",
        "                                           repeat=False)                  # repeat the iterator for many epochs"
      ]
    },
    {
      "cell_type": "code",
      "execution_count": 25,
      "metadata": {
        "collapsed": true,
        "id": "Qwz-rOaha902",
        "jupyter": {
          "outputs_hidden": true
        },
        "colab": {
          "base_uri": "https://localhost:8080/"
        },
        "outputId": "80fae8c4-1a11-4e5a-8047-68b30da89b5b"
      },
      "outputs": [
        {
          "output_type": "stream",
          "name": "stdout",
          "text": [
            "The maximum length of the input sequence in batch 1 is 159.\n",
            "The number of <pad> tokens in batch 1 is 11\n",
            "\n",
            "\n",
            "The maximum length of the input sequence in batch 2 is 39.\n",
            "The number of <pad> tokens in batch 2 is 21\n",
            "\n",
            "\n",
            "The maximum length of the input sequence in batch 3 is 74.\n",
            "The number of <pad> tokens in batch 3 is 16\n",
            "\n",
            "\n",
            "The maximum length of the input sequence in batch 4 is 107.\n",
            "The number of <pad> tokens in batch 4 is 29\n",
            "\n",
            "\n",
            "The maximum length of the input sequence in batch 5 is 40.\n",
            "The number of <pad> tokens in batch 5 is 9\n",
            "\n",
            "\n",
            "The maximum length of the input sequence in batch 6 is 147.\n",
            "The number of <pad> tokens in batch 6 is 0\n",
            "\n",
            "\n",
            "The maximum length of the input sequence in batch 7 is 166.\n",
            "The number of <pad> tokens in batch 7 is 24\n",
            "\n",
            "\n",
            "The maximum length of the input sequence in batch 8 is 41.\n",
            "The number of <pad> tokens in batch 8 is 2\n",
            "\n",
            "\n",
            "The maximum length of the input sequence in batch 9 is 156.\n",
            "The number of <pad> tokens in batch 9 is 13\n",
            "\n",
            "\n",
            "The maximum length of the input sequence in batch 10 is 154.\n",
            "The number of <pad> tokens in batch 10 is 2\n",
            "\n",
            "\n"
          ]
        }
      ],
      "source": [
        "i = 0\n",
        "#pad_count = 0\n",
        "for batch in train_iter:\n",
        "  if i == 10:\n",
        "    break\n",
        "  max_length = batch.sms[1].max()\n",
        "  print(\"The maximum length of the input sequence in batch \" + str(i + 1) + \" is \" + str(int(max_length)) + \".\")\n",
        "  pad_count = (batch.sms[1].max() - batch.sms[1]).sum()\n",
        "  print(\"The number of <pad> tokens in batch \" + str(i + 1) + \" is \" + str(int(pad_count)))\n",
        "  print(\"\\n\")\n",
        "  i += 1"
      ]
    },
    {
      "cell_type": "markdown",
      "metadata": {
        "id": "y7HnqP6_a904"
      },
      "source": [
        "## Part 2. Model Building [8 pt]\n",
        "\n",
        "Build a recurrent neural network model, using an architecture of your choosing.\n",
        "Use the one-hot embedding of each character as input to your recurrent network.\n",
        "Use one or more fully-connected layers to make the prediction based on your\n",
        "recurrent network output.\n",
        "\n",
        "Instead of using the RNN output value for the final token, another often used\n",
        "strategy is to max-pool over the entire output array. That is, instead of calling\n",
        "something like:\n",
        "\n",
        "```\n",
        "out, _ = self.rnn(x)\n",
        "self.fc(out[:, -1, :])\n",
        "```\n",
        "\n",
        "where `self.rnn` is an `nn.RNN`, `nn.GRU`, or `nn.LSTM` module, and `self.fc` is a\n",
        "fully-connected\n",
        "layer, we use:\n",
        "\n",
        "```\n",
        "out, _ = self.rnn(x)\n",
        "self.fc(torch.max(out, dim=1)[0])\n",
        "```\n",
        "\n",
        "This works reasonably in practice. An even better alternative is to concatenate the\n",
        "max-pooling and average-pooling of the RNN outputs:\n",
        "\n",
        "```\n",
        "out, _ = self.rnn(x)\n",
        "out = torch.cat([torch.max(out, dim=1)[0],\n",
        "                 torch.mean(out, dim=1)], dim=1)\n",
        "self.fc(out)\n",
        "```\n",
        "\n",
        "We encourage you to try out all these options. The way you pool the RNN outputs\n",
        "is one of the \"hyperparameters\" that you can choose to tune later on."
      ]
    },
    {
      "cell_type": "code",
      "execution_count": 10,
      "metadata": {
        "collapsed": true,
        "id": "jHl1p_Wwa905",
        "jupyter": {
          "outputs_hidden": true
        },
        "colab": {
          "base_uri": "https://localhost:8080/"
        },
        "outputId": "009e384b-225b-4204-b117-f1fe4017ffdf"
      },
      "outputs": [
        {
          "output_type": "stream",
          "name": "stdout",
          "text": [
            "tensor([1., 0., 0., 0., 0., 0., 0., 0., 0., 0.])\n",
            "tensor([0., 1., 0., 0., 0., 0., 0., 0., 0., 0.])\n",
            "tensor([[[0., 1., 0., 0., 0., 0., 0., 0., 0., 0.],\n",
            "         [0., 0., 1., 0., 0., 0., 0., 0., 0., 0.]],\n",
            "\n",
            "        [[0., 0., 0., 1., 0., 0., 0., 0., 0., 0.],\n",
            "         [0., 0., 0., 0., 1., 0., 0., 0., 0., 0.]]])\n"
          ]
        }
      ],
      "source": [
        "# You might find this code helpful for obtaining\n",
        "# PyTorch one-hot vectors.\n",
        "\n",
        "ident = torch.eye(10)\n",
        "print(ident[0]) # one-hot vector\n",
        "print(ident[1]) # one-hot vector\n",
        "x = torch.tensor([[1, 2], [3, 4]])\n",
        "print(ident[x]) # one-hot vectors"
      ]
    },
    {
      "cell_type": "code",
      "source": [
        "class RNN(nn.Module):\n",
        "    def __init__(self, hidden_size):\n",
        "        super(RNN, self).__init__()\n",
        "        self.name = \"RNN\"\n",
        "        self.emb = torch.eye(len(text_field.vocab.itos))\n",
        "        self.hidden_size = hidden_size\n",
        "        self.rnn = nn.RNN(len(text_field.vocab.itos), hidden_size, batch_first=True)\n",
        "        self.fc = nn.Linear(hidden_size, 2)\n",
        "\n",
        "    def forward(self, x):\n",
        "        x = self.emb[x]\n",
        "        h0 = torch.zeros(1, x.size(0), self.hidden_size) # initialize hidden state with zeros\n",
        "        out, _ = self.rnn(x, h0)\n",
        "        out = self.fc(out[:, -1, :])\n",
        "        return out"
      ],
      "metadata": {
        "id": "FItu2QaPlnzs"
      },
      "execution_count": 136,
      "outputs": []
    },
    {
      "cell_type": "markdown",
      "metadata": {
        "id": "vKIYPl_Ba90_"
      },
      "source": [
        "## Part 3. Training [16 pt]\n",
        "\n",
        "### Part (a) [4 pt]\n",
        "\n",
        "Complete the `get_accuracy` function, which will compute the\n",
        "accuracy (rate) of your model across a dataset (e.g. validation set).\n",
        "You may modify `torchtext.data.BucketIterator` to make your computation\n",
        "faster."
      ]
    },
    {
      "cell_type": "code",
      "execution_count": 7,
      "metadata": {
        "collapsed": true,
        "id": "pvNfhGD6a91A",
        "jupyter": {
          "outputs_hidden": true
        }
      },
      "outputs": [],
      "source": [
        "def get_accuracy(model, data):\n",
        "    \"\"\" Compute the accuracy of the `model` across a dataset `data`\n",
        "\n",
        "    Example usage:\n",
        "\n",
        "    >>> model = MyRNN() # to be defined\n",
        "    >>> get_accuracy(model, valid) # the variable `valid` is from above\n",
        "    \"\"\"\n",
        "    correct, total = 0, 0\n",
        "    for batch in data:\n",
        "        text = batch.sms\n",
        "        labels = batch.label\n",
        "        output = model(text[0])\n",
        "        pred = output.max(1, keepdim=True)[1]\n",
        "        correct += pred.eq(labels.view_as(pred)).sum().item()\n",
        "        total += labels.shape[0]\n",
        "    return correct / total"
      ]
    },
    {
      "cell_type": "markdown",
      "metadata": {
        "id": "TlxlcAC1a91C"
      },
      "source": [
        "### Part (b) [4 pt]\n",
        "\n",
        "Train your model. Plot the training curve of your final model.\n",
        "Your training curve should have the training/validation loss and\n",
        "accuracy plotted periodically.\n",
        "\n",
        "Note: Not all of your batches will have the same batch size.\n",
        "In particular, if your training set does not divide evenly by\n",
        "your batch size, there will be a batch that is smaller than\n",
        "the rest."
      ]
    },
    {
      "cell_type": "code",
      "execution_count": 8,
      "metadata": {
        "collapsed": true,
        "id": "CVtf7CJCa91D",
        "jupyter": {
          "outputs_hidden": true
        }
      },
      "outputs": [],
      "source": [
        "def plot_training_curve(path):\n",
        "    \"\"\" Plots the training curve for a model run, given the csv files\n",
        "    containing the train/validation accuracy/loss.\n",
        "\n",
        "    Args:\n",
        "        path: The base path of the csv files produced during training\n",
        "    \"\"\"\n",
        "    import matplotlib.pyplot as plt\n",
        "    train_acc = np.loadtxt(\"{}_train_acc.csv\".format(path))\n",
        "    val_acc = np.loadtxt(\"{}_val_acc.csv\".format(path))\n",
        "    train_loss = np.loadtxt(\"{}_train_loss.csv\".format(path))\n",
        "    val_loss = np.loadtxt(\"{}_val_loss.csv\".format(path))\n",
        "    plt.title(\"Train vs Validation Accuracy\")\n",
        "    n = len(train_acc) # number of epochs\n",
        "    plt.plot(range(1,n+1), train_acc, label=\"Train\")\n",
        "    plt.plot(range(1,n+1), val_acc, label=\"Validation\")\n",
        "    plt.xlabel(\"Epoch\")\n",
        "    plt.ylabel(\"Error\")\n",
        "    plt.legend(loc='best')\n",
        "    plt.show()\n",
        "    plt.title(\"Train vs Validation Loss\")\n",
        "    plt.plot(range(1,n+1), train_loss, label=\"Train\")\n",
        "    plt.plot(range(1,n+1), val_loss, label=\"Validation\")\n",
        "    plt.xlabel(\"Epoch\")\n",
        "    plt.ylabel(\"Loss\")\n",
        "    plt.legend(loc='best')\n",
        "    plt.show()\n",
        "\n",
        "def get_model_name(name, learning_rate, epoch):\n",
        "    \"\"\" Generate a name for the model consisting of all the hyperparameter values\n",
        "\n",
        "    Args:\n",
        "        config: Configuration object containing the hyperparameters\n",
        "    Returns:\n",
        "        path: A string with the hyperparameter name and value concatenated\n",
        "    \"\"\"\n",
        "    path = \"model_{0}_lr{1}_epoch{2}\".format(name,\n",
        "                                              learning_rate,\n",
        "                                              epoch)\n",
        "    return path\n",
        "\n",
        "def get_loss(model, data, criterion):\n",
        "  total_loss = 0.0\n",
        "  i = 0\n",
        "  for batch in data:\n",
        "    text = batch.sms\n",
        "    labels = batch.label\n",
        "    output = model(text[0])\n",
        "    loss = criterion(output, labels)\n",
        "    total_loss += loss.item()\n",
        "    i+= 1\n",
        "  return float(total_loss)/ (i+1)\n",
        "\n",
        "def train(model, train_loader, val_loader, num_epochs=1, lr=0.01):\n",
        "  optimizer = torch.optim.Adam(model.parameters(), lr=lr)\n",
        "  criterion = nn.CrossEntropyLoss()\n",
        "\n",
        "  train_acc = np.zeros(num_epochs)\n",
        "  train_loss = np.zeros(num_epochs)\n",
        "  val_acc = np.zeros(num_epochs)\n",
        "  val_loss = np.zeros(num_epochs)\n",
        "  total_train_loss = 0.0\n",
        "  i = 0\n",
        "\n",
        "  for epoch in range(num_epochs):\n",
        "    for batch in train_loader:\n",
        "      text = batch.sms\n",
        "      labels = batch.label\n",
        "      optimizer.zero_grad()\n",
        "      output = model(text[0])\n",
        "      loss = criterion(output, labels)\n",
        "      loss.backward()\n",
        "      optimizer.step()\n",
        "      total_train_loss += loss.item()\n",
        "      i+= 1\n",
        "\n",
        "    train_acc[epoch] = get_accuracy(model, train_loader)\n",
        "    train_loss[epoch] = float(total_train_loss)/ (i+1)\n",
        "    val_acc[epoch] = get_accuracy(model, val_loader)\n",
        "    val_loss[epoch] = get_loss(model, val_loader, criterion)\n",
        "\n",
        "    print((\"Epoch {}: Train acc: {}, Train loss: {} |\"+\n",
        "                  \"Validation acc: {}, Validation loss: {}\").format(\n",
        "                      epoch + 1,\n",
        "                      train_acc[epoch],\n",
        "                      train_loss[epoch],\n",
        "                      val_acc[epoch],\n",
        "                      val_loss[epoch]))\n",
        "\n",
        "# Save the current model (checkpoint) to a file\n",
        "  model_path = get_model_name(model.name, lr, epoch)\n",
        "  torch.save(model.state_dict(), model_path)\n",
        "  epochs = np.arange(1, num_epochs + 1)\n",
        "  np.savetxt(\"{}_train_acc.csv\".format(model_path), train_acc)\n",
        "  np.savetxt(\"{}_train_loss.csv\".format(model_path), train_loss)\n",
        "  np.savetxt(\"{}_val_acc.csv\".format(model_path), val_acc)\n",
        "  np.savetxt(\"{}_val_loss.csv\".format(model_path), val_loss)\n",
        "\n",
        "  plot_training_curve(model_path)\n"
      ]
    },
    {
      "cell_type": "markdown",
      "metadata": {
        "id": "fE3eRkDAa91F"
      },
      "source": [
        "### Part (c) [4 pt]\n",
        "\n",
        "Choose at least 4 hyperparameters to tune. Explain how you tuned the hyperparameters.\n",
        "You don't need to include your training curve for every model you trained.\n",
        "Instead, explain what hyperparemters you tuned, what the best validation accuracy was,\n",
        "and the reasoning behind the hyperparameter decisions you made.\n",
        "\n",
        "For this assignment, you should tune more than just your learning rate and epoch.\n",
        "Choose at least 2 hyperparameters that are unrelated to the optimizer."
      ]
    },
    {
      "cell_type": "code",
      "execution_count": 9,
      "metadata": {
        "collapsed": true,
        "id": "A2GEWfDca91G",
        "jupyter": {
          "outputs_hidden": true
        }
      },
      "outputs": [],
      "source": [
        "valid_iter = torchtext.data.BucketIterator(valid,\n",
        "                                           batch_size=32,\n",
        "                                           sort_key=lambda x: len(x.sms),\n",
        "                                           sort_within_batch=True,\n",
        "                                           repeat=False)"
      ]
    },
    {
      "cell_type": "code",
      "source": [
        "# 1\n",
        "model = RNN(50)\n",
        "train(model, train_iter, valid_iter, num_epochs=20, lr=0.1)\n",
        "# The validation accuracy and loss were very noisy\n",
        "# final training accuracy of 49%, validation accuracy of 59%"
      ],
      "metadata": {
        "id": "sSVuLzMbaLMZ"
      },
      "execution_count": null,
      "outputs": []
    },
    {
      "cell_type": "code",
      "source": [
        "# 2\n",
        "# lowered the learning rate to reduce the noise\n",
        "model = RNN(50)\n",
        "train(model, train_iter, valid_iter, num_epochs=20, lr=0.01)\n",
        "# final training accuracy of 79%, validation accuracy of 81%\n",
        "# there was still quite a bit of noise, so we can try lowering the learning rate more\n",
        "# the model seems to be performing poorly on the validation data, so we can try increasing the hidden units\n",
        "# to see if the model will be able to capture more complex features"
      ],
      "metadata": {
        "id": "QMhYDToOmg71"
      },
      "execution_count": null,
      "outputs": []
    },
    {
      "cell_type": "code",
      "source": [
        "# 3\n",
        "# increased number of hidden units to 64, and decreased learning rate\n",
        "model = RNN(64)\n",
        "train(model, train_iter, valid_iter, num_epochs=20, lr=0.001)\n",
        "# final training accuracy of 94%, validation accuracy of 94%\n",
        "# there is still quite of bit of noise in the training and validation accuracies, so we can lower the learning rate a bit more\n",
        "# the training loss seems to still be decreasing as well, so we can increase the number of epochs to see if it will start to converge"
      ],
      "metadata": {
        "id": "03awtXHhnWn3"
      },
      "execution_count": null,
      "outputs": []
    },
    {
      "cell_type": "code",
      "source": [
        "# 4\n",
        "# decreased learning rate and increased number of epochs\n",
        "model = RNN(64)\n",
        "train(model, train_iter, valid_iter, num_epochs=30, lr=0.0001)\n",
        "# final training accuracy of 96%, validation accuracy of 95%\n",
        "# the amount of noise reduced significantly for the training and validation accuracies and losses\n",
        "# we can try altering the way we pool the rnn and see if that improves our model"
      ],
      "metadata": {
        "id": "xH2eMI2GqFd3"
      },
      "execution_count": null,
      "outputs": []
    },
    {
      "cell_type": "code",
      "source": [
        "class RNN(nn.Module):\n",
        "    def __init__(self, hidden_size):\n",
        "        super(RNN, self).__init__()\n",
        "        self.name = \"RNN\"\n",
        "        self.emb = torch.eye(len(text_field.vocab.itos))\n",
        "        self.hidden_size = hidden_size\n",
        "        self.rnn = nn.RNN(len(text_field.vocab.itos), hidden_size, batch_first=True)\n",
        "        self.fc = nn.Linear(hidden_size * 2, 2)\n",
        "\n",
        "    def forward(self, x):\n",
        "        x = self.emb[x]\n",
        "        h0 = torch.zeros(1, x.size(0), self.hidden_size) # initialize hidden state with zeros\n",
        "        out, _ = self.rnn(x, h0)\n",
        "        out = torch.cat([torch.max(out, dim=1)[0],\n",
        "                 torch.mean(out, dim=1)], dim=1)\n",
        "        out = self.fc(out)\n",
        "        return out"
      ],
      "metadata": {
        "id": "IMoQKErIwYVD"
      },
      "execution_count": 10,
      "outputs": []
    },
    {
      "cell_type": "code",
      "source": [
        "# 5\n",
        "# changed the pooling method\n",
        "model = RNN(64)\n",
        "train(model, train_iter, valid_iter, num_epochs=30, lr=0.0001)\n",
        "# final training accuracy of 97%, validation accuracy of 98%\n",
        "# the accuracies increased and the losses decreased from the previous model, so changing the pooling method worked\n",
        "# the losses are still decreasing, so we can try to increase the number of epochs again"
      ],
      "metadata": {
        "id": "oOdtKZegxPzW"
      },
      "execution_count": null,
      "outputs": []
    },
    {
      "cell_type": "code",
      "source": [
        "# increased number of epochs\n",
        "model_6 = RNN(64)\n",
        "train(model, train_iter, valid_iter, num_epochs=40, lr=0.0001)\n",
        "# it seems like our model is overfitting to the train set and is less effective at generalizing to the validation set\n",
        "# final training accuracy of 99%, validation accuracy of 98%"
      ],
      "metadata": {
        "id": "_rYh2gMczGfN"
      },
      "execution_count": null,
      "outputs": []
    },
    {
      "cell_type": "code",
      "source": [
        "# lowered the number of epochs\n",
        "model_7 = RNN(64)\n",
        "train(model_7, train_iter, valid_iter, num_epochs=35, lr=0.0001)\n",
        "# final training accuracy of 97%, validation accuracy of 98%\n",
        "# choose this as the final model"
      ],
      "metadata": {
        "colab": {
          "base_uri": "https://localhost:8080/",
          "height": 1000
        },
        "id": "AvRt9ssk2hK-",
        "outputId": "e8b10c88-f35a-47bb-a1c1-0c173c9c4dcc"
      },
      "execution_count": 150,
      "outputs": [
        {
          "output_type": "stream",
          "name": "stdout",
          "text": [
            "Epoch 1: Train acc: 0.5441248972884142, Train loss: 0.6849419198309382 |Validation acc: 0.18116591928251122, Validation loss: 0.6838741915093528\n",
            "Epoch 2: Train acc: 0.6179129005751849, Train loss: 0.6733171890049628 |Validation acc: 0.3219730941704036, Validation loss: 0.6720523917012744\n",
            "Epoch 3: Train acc: 0.8228430566967954, Train loss: 0.6239979837725802 |Validation acc: 0.695067264573991, Validation loss: 0.6207649095190896\n",
            "Epoch 4: Train acc: 0.9160230073952342, Train loss: 0.5713053055351076 |Validation acc: 0.9246636771300448, Validation loss: 0.3401523257295291\n",
            "Epoch 5: Train acc: 0.9257189811010682, Train loss: 0.5148898911463665 |Validation acc: 0.9336322869955157, Validation loss: 0.2588689389328162\n",
            "Epoch 6: Train acc: 0.9513557929334429, Train loss: 0.46954306148791586 |Validation acc: 0.9327354260089686, Validation loss: 0.2899940703064203\n",
            "Epoch 7: Train acc: 0.9554642563681183, Train loss: 0.4325360734884381 |Validation acc: 0.9488789237668162, Validation loss: 0.21186437343971598\n",
            "Epoch 8: Train acc: 0.9533278553820871, Train loss: 0.40196553812995117 |Validation acc: 0.9614349775784753, Validation loss: 0.1534016172712048\n",
            "Epoch 9: Train acc: 0.9585866885784716, Train loss: 0.3757124012969651 |Validation acc: 0.9551569506726457, Validation loss: 0.1532237786385748\n",
            "Epoch 10: Train acc: 0.9556285949055053, Train loss: 0.35259945077888866 |Validation acc: 0.9434977578475336, Validation loss: 0.19573486430777443\n",
            "Epoch 11: Train acc: 0.9666392769104355, Train loss: 0.33273288174102583 |Validation acc: 0.9704035874439462, Validation loss: 0.11095860512513253\n",
            "Epoch 12: Train acc: 0.9631881676253081, Train loss: 0.3158672338808942 |Validation acc: 0.9524663677130045, Validation loss: 0.14440546888444158\n",
            "Epoch 13: Train acc: 0.9669679539852095, Train loss: 0.3010100338764747 |Validation acc: 0.9748878923766816, Validation loss: 0.09337352495640516\n",
            "Epoch 14: Train acc: 0.9475760065735415, Train loss: 0.2880916397235243 |Validation acc: 0.9739910313901345, Validation loss: 0.08625386518219279\n",
            "Epoch 15: Train acc: 0.9710764174198849, Train loss: 0.2766320662271096 |Validation acc: 0.9641255605381166, Validation loss: 0.12107582379960352\n",
            "Epoch 16: Train acc: 0.9748562037797863, Train loss: 0.26640968765234185 |Validation acc: 0.9713004484304932, Validation loss: 0.09008466276443666\n",
            "Epoch 17: Train acc: 0.970583401807724, Train loss: 0.25652564749946893 |Validation acc: 0.9650224215246637, Validation loss: 0.10037549771368504\n",
            "Epoch 18: Train acc: 0.9750205423171734, Train loss: 0.2479413761009873 |Validation acc: 0.9739910313901345, Validation loss: 0.10871725969223513\n",
            "Epoch 19: Train acc: 0.9758422350041085, Train loss: 0.24060946184559404 |Validation acc: 0.9704035874439462, Validation loss: 0.10622778001965748\n",
            "Epoch 20: Train acc: 0.9579293344289236, Train loss: 0.2331635916701381 |Validation acc: 0.9408071748878923, Validation loss: 0.16302277923872074\n",
            "Epoch 21: Train acc: 0.9768282662284306, Train loss: 0.22660709292976536 |Validation acc: 0.9739910313901345, Validation loss: 0.0736339815840539\n",
            "Epoch 22: Train acc: 0.9751848808545603, Train loss: 0.22050572740887484 |Validation acc: 0.9713004484304932, Validation loss: 0.10684185744159752\n",
            "Epoch 23: Train acc: 0.9783073130649137, Train loss: 0.21506881143771236 |Validation acc: 0.9748878923766816, Validation loss: 0.09004899968082707\n",
            "Epoch 24: Train acc: 0.9576006573541496, Train loss: 0.20992423290424375 |Validation acc: 0.9390134529147982, Validation loss: 0.16989397024735808\n",
            "Epoch 25: Train acc: 0.9720624486442071, Train loss: 0.20499753231162998 |Validation acc: 0.9668161434977578, Validation loss: 0.11071760786904229\n",
            "Epoch 26: Train acc: 0.9755135579293345, Train loss: 0.20052776791877033 |Validation acc: 0.967713004484305, Validation loss: 0.10125234759309226\n",
            "Epoch 27: Train acc: 0.9663105998356615, Train loss: 0.1960301313734985 |Validation acc: 0.9488789237668162, Validation loss: 0.1510681671400865\n",
            "Epoch 28: Train acc: 0.9792933442892359, Train loss: 0.19194291394835403 |Validation acc: 0.9748878923766816, Validation loss: 0.08050161149973671\n",
            "Epoch 29: Train acc: 0.9761709120788825, Train loss: 0.18817164779053194 |Validation acc: 0.9721973094170404, Validation loss: 0.1070946355143355\n",
            "Epoch 30: Train acc: 0.9783073130649137, Train loss: 0.18451419215435022 |Validation acc: 0.9766816143497757, Validation loss: 0.0688895666713102\n",
            "Epoch 31: Train acc: 0.980443714050945, Train loss: 0.18117956812719177 |Validation acc: 0.9775784753363229, Validation loss: 0.06704861813017891\n",
            "Epoch 32: Train acc: 0.9735414954806902, Train loss: 0.1780270765431249 |Validation acc: 0.957847533632287, Validation loss: 0.14797019265178177\n",
            "Epoch 33: Train acc: 0.9781429745275267, Train loss: 0.17495644032852642 |Validation acc: 0.9713004484304932, Validation loss: 0.10469905028326644\n",
            "Epoch 34: Train acc: 0.971240755957272, Train loss: 0.17204808352204662 |Validation acc: 0.9551569506726457, Validation loss: 0.12575272967418036\n",
            "Epoch 35: Train acc: 0.9694330320460148, Train loss: 0.16932613595249257 |Validation acc: 0.97847533632287, Validation loss: 0.060688024477308825\n"
          ]
        },
        {
          "output_type": "display_data",
          "data": {
            "text/plain": [
              "<Figure size 640x480 with 1 Axes>"
            ],
            "image/png": "[encoded data removed]"
          },
          "metadata": {}
        },
        {
          "output_type": "display_data",
          "data": {
            "text/plain": [
              "<Figure size 640x480 with 1 Axes>"
            ],
            "image/png": "[encoded data removed]"
          },
          "metadata": {}
        }
      ]
    },
    {
      "cell_type": "markdown",
      "metadata": {
        "id": "v7DY56rKa91I"
      },
      "source": [
        "### Part (d) [2 pt]\n",
        "\n",
        "Before we deploy a machine learning model, we usually want to have a better understanding\n",
        "of how our model performs beyond its validation accuracy. An important metric to track is\n",
        "*how well our model performs in certain subsets of the data*.\n",
        "\n",
        "In particular, what is the model's error rate amongst data with negative labels?\n",
        "This is called the **false positive rate**.\n",
        "\n",
        "What about the model's error rate amongst data with positive labels?\n",
        "This is called the **false negative rate**.\n",
        "\n",
        "Report your final model's false positive and false negative rate across the\n",
        "validation set."
      ]
    },
    {
      "cell_type": "code",
      "execution_count": 14,
      "metadata": {
        "collapsed": true,
        "id": "7ggbQSdba91J",
        "jupyter": {
          "outputs_hidden": true
        },
        "colab": {
          "base_uri": "https://localhost:8080/"
        },
        "outputId": "eff7be03-958a-43d9-ce48-0f801e111714"
      },
      "outputs": [
        {
          "output_type": "stream",
          "name": "stdout",
          "text": [
            "False positive rate:  0.029227557411273475\n",
            "False negative rate:  0.031847133757961776\n"
          ]
        }
      ],
      "source": [
        "# Create a Dataset of only spam validation examples\n",
        "valid_spam = torchtext.data.Dataset(\n",
        "    [e for e in valid.examples if e.label == 1],\n",
        "    valid.fields)\n",
        "# Create a Dataset of only non-spam validation examples\n",
        "valid_nospam = torchtext.data.Dataset(\n",
        "    [e for e in valid.examples if e.label == 0],\n",
        "    valid.fields)\n",
        "\n",
        "valid_spam_iter = torchtext.data.BucketIterator(valid_spam,\n",
        "                                           batch_size=32,\n",
        "                                           sort_key=lambda x: len(x.sms),\n",
        "                                           sort_within_batch=True,\n",
        "                                           repeat=False)\n",
        "valid_nonspam_iter = torchtext.data.BucketIterator(valid_nospam,\n",
        "                                           batch_size=32,\n",
        "                                           sort_key=lambda x: len(x.sms),\n",
        "                                           sort_within_batch=True,\n",
        "                                           repeat=False)\n",
        "\n",
        "false_negatives = 1 - get_accuracy(model_7, valid_spam_iter)\n",
        "false_positives = 1 - get_accuracy(model_7, valid_nonspam_iter)\n",
        "\n",
        "print(\"False positive rate: \", false_positives)\n",
        "print(\"False negative rate: \", false_negatives)"
      ]
    },
    {
      "cell_type": "markdown",
      "metadata": {
        "id": "N1iRteb3a91O"
      },
      "source": [
        "### Part (e) [2 pt]\n",
        "\n",
        "The impact of a false positive vs a false negative can be drastically different.\n",
        "If our spam detection algorithm was deployed on your phone, what is the impact\n",
        "of a false positive on the phone's user? What is the impact of a false negative?"
      ]
    },
    {
      "cell_type": "markdown",
      "source": [
        "With false negatives, the spam messages would show as non-spam to the user, which would just take up space in the user's message inbox. <br>\n",
        "With false positives, the non-spam messages would show as spam message, which could cause the user's to miss potentially important information."
      ],
      "metadata": {
        "id": "f2oSRPB8-nkl"
      }
    },
    {
      "cell_type": "markdown",
      "metadata": {
        "id": "Gznefulsa91V"
      },
      "source": [
        "## Part 4. Evaluation [11 pt]\n",
        "\n",
        "### Part (a) [1 pt]\n",
        "\n",
        "Report the final test accuracy of your model."
      ]
    },
    {
      "cell_type": "code",
      "execution_count": 15,
      "metadata": {
        "collapsed": true,
        "id": "D5L5D-A1a91W",
        "jupyter": {
          "outputs_hidden": true
        },
        "colab": {
          "base_uri": "https://localhost:8080/"
        },
        "outputId": "ed522e78-601e-48a5-a2e4-55aab60d4868"
      },
      "outputs": [
        {
          "output_type": "stream",
          "name": "stdout",
          "text": [
            "Test accuracy:  0.9631956912028725\n"
          ]
        }
      ],
      "source": [
        "test_iter = torchtext.data.BucketIterator(test,\n",
        "                                           batch_size=32,\n",
        "                                           sort_key=lambda x: len(x.sms),\n",
        "                                           sort_within_batch=True,\n",
        "                                           repeat=False)\n",
        "\n",
        "test_acc = get_accuracy(model_7, test_iter)\n",
        "print(\"Test accuracy: \", test_acc)"
      ]
    },
    {
      "cell_type": "markdown",
      "metadata": {
        "id": "6Hjmd8rca91Y"
      },
      "source": [
        "### Part (b) [3 pt]\n",
        "\n",
        "Report the false positive rate and false negative rate of your model across the test set."
      ]
    },
    {
      "cell_type": "code",
      "execution_count": 18,
      "metadata": {
        "collapsed": true,
        "id": "GFiAKztJa91Z",
        "jupyter": {
          "outputs_hidden": true
        },
        "colab": {
          "base_uri": "https://localhost:8080/"
        },
        "outputId": "2433f0e5-4c98-414b-f8c1-000696a622dc"
      },
      "outputs": [
        {
          "output_type": "stream",
          "name": "stdout",
          "text": [
            "False positive rate:  0.031600407747196746\n",
            "False negative rate:  0.052631578947368474\n"
          ]
        }
      ],
      "source": [
        "# Create a Dataset of only spam test examples\n",
        "test_spam = torchtext.data.Dataset(\n",
        "    [e for e in test.examples if e.label == 1],\n",
        "    test.fields)\n",
        "# Create a Dataset of only non-spam test examples\n",
        "test_nospam = torchtext.data.Dataset(\n",
        "    [e for e in test.examples if e.label == 0],\n",
        "    test.fields)\n",
        "\n",
        "test_spam_iter = torchtext.data.BucketIterator(test_spam,\n",
        "                                           batch_size=32,\n",
        "                                           sort_key=lambda x: len(x.sms),\n",
        "                                           sort_within_batch=True,\n",
        "                                           repeat=False)\n",
        "test_nonspam_iter = torchtext.data.BucketIterator(test_nospam,\n",
        "                                           batch_size=32,\n",
        "                                           sort_key=lambda x: len(x.sms),\n",
        "                                           sort_within_batch=True,\n",
        "                                           repeat=False)\n",
        "\n",
        "false_negatives = 1 - get_accuracy(model_7, test_spam_iter)\n",
        "false_positives = 1 - get_accuracy(model_7, test_nonspam_iter)\n",
        "\n",
        "print(\"False positive rate: \", false_positives)\n",
        "print(\"False negative rate: \", false_negatives)"
      ]
    },
    {
      "cell_type": "markdown",
      "metadata": {
        "id": "0jGHtQFpa91b"
      },
      "source": [
        "### Part (c) [3 pt]\n",
        "\n",
        "What is your model's prediction of the **probability** that\n",
        "the SMS message \"machine learning is sooo cool!\" is spam?\n",
        "\n",
        "Hint: To begin, use `text_field.vocab.stoi` to look up the index\n",
        "of each character in the vocabulary."
      ]
    },
    {
      "cell_type": "code",
      "execution_count": 24,
      "metadata": {
        "collapsed": true,
        "id": "h_2nSJq8a91b",
        "jupyter": {
          "outputs_hidden": true
        },
        "colab": {
          "base_uri": "https://localhost:8080/"
        },
        "outputId": "5fb2e28a-5d77-4e16-e77e-a497e546b28f"
      },
      "outputs": [
        {
          "output_type": "stream",
          "name": "stdout",
          "text": [
            "The probability that the SMS message is spam is 4.7585906982421875%.\n"
          ]
        }
      ],
      "source": [
        "msg = \"machine learning is sooo cool!\"\n",
        "indices = []\n",
        "for char in msg:\n",
        "  indices.append(text_field.vocab.stoi[char])\n",
        "\n",
        "indices = torch.tensor(indices)\n",
        "indices = indices.unsqueeze(0)\n",
        "output = model_7(indices)\n",
        "prob = torch.nn.functional.softmax(output, dim=1)\n",
        "print(\"The probability that the SMS message is spam is \" + str(float(prob[0][1] * 100)) + \"%.\")\n"
      ]
    },
    {
      "cell_type": "markdown",
      "metadata": {
        "id": "QD1zgYJpa91f"
      },
      "source": [
        "### Part (d) [4 pt]\n",
        "\n",
        "Do you think detecting spam is an easy or difficult task?\n",
        "\n",
        "Since machine learning models are expensive to train and deploy, it is very\n",
        "important to compare our models against baseline models: a simple\n",
        "model that is easy to build and inexpensive to run that we can compare our\n",
        "recurrent neural network model against.\n",
        "\n",
        "Explain how you might build a simple baseline model. This baseline model\n",
        "can be a simple neural network (with very few weights), a hand-written algorithm,\n",
        "or any other strategy that is easy to build and test.\n",
        "\n",
        "**Do not actually build a baseline model. Instead, provide instructions on\n",
        "how to build it.**"
      ]
    },
    {
      "cell_type": "markdown",
      "source": [
        "I think detecting spam should be a relatively simple task, however, there will be occasional errors because some spam messages may be extremely similar to real messages. <br>\n",
        "A simple baseline model that we could build is to make a list of commonly used punctuation, words, maybe links (spam messages could have links attached that cause user's to download viruses onto their devices) from the training set. The list could then be used to classify other messages as spam if there are a certain amount of elements from that list used in the message.  "
      ],
      "metadata": {
        "id": "VQfmW583Y8H8"
      }
    }
  ],
  "metadata": {
    "colab": {
      "provenance": []
    },
    "kernelspec": {
      "display_name": "Python 3 (ipykernel)",
      "language": "python",
      "name": "python3"
    },
    "language_info": {
      "codemirror_mode": {
        "name": "ipython",
        "version": 3
      },
      "file_extension": ".py",
      "mimetype": "text/x-python",
      "name": "python",
      "nbconvert_exporter": "python",
      "pygments_lexer": "ipython3",
      "version": "3.9.4"
    }
  },
  "nbformat": 4,
  "nbformat_minor": 0
}