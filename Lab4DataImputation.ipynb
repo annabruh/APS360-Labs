{
  "cells": [
    {
      "cell_type": "markdown",
      "metadata": {
        "id": "OhtOdxzd1ppr"
      },
      "source": [
        "# Lab 4: Data Imputation using an Autoencoder\n",
        "\n",
        "\n",
        "In this lab, you will build and train an autoencoder to impute (or \"fill in\") missing data.\n",
        "\n",
        "We will be using the\n",
        "Adult Data Set provided by the UCI Machine Learning Repository [1], available\n",
        "at https://archive.ics.uci.edu/ml/datasets/adult.\n",
        "The data set contains census record files of adults, including their\n",
        "age, martial status, the type of work they do, and other features.\n",
        "\n",
        "Normally, people use this data set to build a supervised classification\n",
        "model to classify whether a person is a high income earner.\n",
        "We will not use the dataset for this original intended purpose.\n",
        "\n",
        "Instead, we will perform the task of imputing (or \"filling in\") missing values in the dataset. For example,\n",
        "we may be missing one person's martial status, and another person's age, and\n",
        "a third person's level of education. Our model will predict the missing features\n",
        "based on the information that we do have about each person.\n",
        "\n",
        "We will use a variation of a denoising autoencoder to solve this data imputation\n",
        "problem. Our autoencoder will be trained using inputs that have one categorical feature artificially\n",
        "removed, and the goal of the autoencoder is to correctly reconstruct all features,\n",
        "including the one removed from the input.\n",
        "\n",
        "In the process, you are expected to learn to:\n",
        "\n",
        "1. Clean and process continuous and categorical data for machine learning.\n",
        "2. Implement an autoencoder that takes continuous and categorical (one-hot) inputs.\n",
        "3. Tune the hyperparameters of an autoencoder.\n",
        "4. Use baseline models to help interpret model performance.\n",
        "\n",
        "[1] Dua, D. and Karra Taniskidou, E. (2017). UCI Machine Learning Repository [http://archive.ics.uci.edu/ml]. Irvine, CA: University of California, School of Information and Computer Science.\n",
        "\n",
        "\n",
        "### What to submit\n",
        "\n",
        "Submit a PDF file containing all your code, outputs, and write-up. You can produce a PDF of your Google Colab file by going to File > Print and then save as PDF. The Colab instructions have more information.\n",
        "\n",
        "Do not submit any other files produced by your code.\n",
        "\n",
        "Include a link to your colab file in your submission.\n"
      ]
    },
    {
      "cell_type": "markdown",
      "metadata": {
        "id": "zbnrp2ig1pps"
      },
      "source": [
        "## Colab Link\n",
        "\n",
        "Include a link to your Colab file here. If you would like the TA to look at your\n",
        "Colab file in case your solutions are cut off, **please make sure that your Colab\n",
        "file is publicly accessible at the time of submission**.\n",
        "\n",
        "Colab Link: https://colab.research.google.com/drive/1HSrSmlsGd90Nvj-FopjWit67Msp5rVie?usp=sharing"
      ]
    },
    {
      "cell_type": "code",
      "execution_count": 4,
      "metadata": {
        "collapsed": true,
        "id": "z3p8N43E1ppt",
        "jupyter": {
          "outputs_hidden": true
        }
      },
      "outputs": [],
      "source": [
        "import csv\n",
        "import numpy as np\n",
        "import random\n",
        "import torch\n",
        "import torch.utils.data"
      ]
    },
    {
      "cell_type": "markdown",
      "metadata": {
        "id": "8ROwtHcz1ppx"
      },
      "source": [
        "## Part 0\n",
        "\n",
        "We will be using a package called `pandas` for this assignment.\n",
        "\n",
        "If you are using Colab, `pandas` should already be available.\n",
        "If you are using your own computer,\n",
        "installation instructions for `pandas` are available here:\n",
        "https://pandas.pydata.org/pandas-docs/stable/install.html"
      ]
    },
    {
      "cell_type": "code",
      "execution_count": 5,
      "metadata": {
        "collapsed": true,
        "id": "IXQ7BP151ppz",
        "jupyter": {
          "outputs_hidden": true
        }
      },
      "outputs": [],
      "source": [
        "import pandas as pd"
      ]
    },
    {
      "cell_type": "markdown",
      "metadata": {
        "id": "hqXihb4Q1pp2"
      },
      "source": [
        "# Part 1. Data Cleaning [15 pt]\n",
        "\n",
        "The adult.data file is available at `https://archive.ics.uci.edu/ml/machine-learning-databases/adult/adult.data`\n",
        "\n",
        "The function `pd.read_csv` loads the adult.data file into a pandas dataframe.\n",
        "You can read about the pandas documentation for `pd.read_csv` at\n",
        "https://pandas.pydata.org/pandas-docs/stable/reference/api/pandas.read_csv.html"
      ]
    },
    {
      "cell_type": "code",
      "execution_count": 6,
      "metadata": {
        "collapsed": true,
        "id": "EOMItFKn1pp3",
        "jupyter": {
          "outputs_hidden": true
        },
        "colab": {
          "base_uri": "https://localhost:8080/"
        },
        "outputId": "3d74fb9f-f978-499f-8735-78cb27543f88"
      },
      "outputs": [
        {
          "output_type": "stream",
          "name": "stderr",
          "text": [
            "<ipython-input-6-037957db2593>:3: ParserWarning: Length of header or names does not match length of data. This leads to a loss of data with index_col=False.\n",
            "  df = pd.read_csv(\n"
          ]
        }
      ],
      "source": [
        "header = ['age', 'work', 'fnlwgt', 'edu', 'yredu', 'marriage', 'occupation',\n",
        " 'relationship', 'race', 'sex', 'capgain', 'caploss', 'workhr', 'country']\n",
        "df = pd.read_csv(\n",
        "    \"https://archive.ics.uci.edu/ml/machine-learning-databases/adult/adult.data\",\n",
        "    names=header,\n",
        "    index_col=False)"
      ]
    },
    {
      "cell_type": "code",
      "execution_count": 7,
      "metadata": {
        "id": "62Ot405q1pp5",
        "outputId": "febe0cc4-3db8-4c02-a8d5-e0aa978bf6af",
        "scrolled": true,
        "colab": {
          "base_uri": "https://localhost:8080/"
        }
      },
      "outputs": [
        {
          "output_type": "execute_result",
          "data": {
            "text/plain": [
              "(32561, 14)"
            ]
          },
          "metadata": {},
          "execution_count": 7
        }
      ],
      "source": [
        "df.shape # there are 32561 rows (records) in the data frame, and 14 columns (features)"
      ]
    },
    {
      "cell_type": "markdown",
      "metadata": {
        "id": "Tr7YG-QY1pp8"
      },
      "source": [
        "### Part (a) Continuous Features [3 pt]\n",
        "\n",
        "For each of the columns `[\"age\", \"yredu\", \"capgain\", \"caploss\", \"workhr\"]`, report the minimum, maximum, and average value across the dataset.\n",
        "\n",
        "Then, normalize each of the features `[\"age\", \"yredu\", \"capgain\", \"caploss\", \"workhr\"]`\n",
        "so that their values are always between 0 and 1.\n",
        "Make sure that you are actually modifying the dataframe `df`.\n",
        "\n",
        "Like numpy arrays and torch tensors,\n",
        "pandas data frames can be sliced. For example, we can\n",
        "display the first 3 rows of the data frame (3 records) below."
      ]
    },
    {
      "cell_type": "code",
      "execution_count": 9,
      "metadata": {
        "id": "9evSLsSa1pp9",
        "outputId": "fe3753d5-7458-43f0-a65b-81428812166d",
        "colab": {
          "base_uri": "https://localhost:8080/",
          "height": 233
        }
      },
      "outputs": [
        {
          "output_type": "execute_result",
          "data": {
            "text/plain": [
              "   age               work  fnlwgt         edu  yredu             marriage  \\\n",
              "0   39          State-gov   77516   Bachelors     13        Never-married   \n",
              "1   50   Self-emp-not-inc   83311   Bachelors     13   Married-civ-spouse   \n",
              "2   38            Private  215646     HS-grad      9             Divorced   \n",
              "\n",
              "           occupation    relationship    race    sex  capgain  caploss  \\\n",
              "0        Adm-clerical   Not-in-family   White   Male     2174        0   \n",
              "1     Exec-managerial         Husband   White   Male        0        0   \n",
              "2   Handlers-cleaners   Not-in-family   White   Male        0        0   \n",
              "\n",
              "   workhr         country  \n",
              "0      40   United-States  \n",
              "1      13   United-States  \n",
              "2      40   United-States  "
            ],
            "text/html": [
              "\n",
              "  <div id=\"df-e712d5f8-f6a8-4ab5-b4fd-56094521c0c5\" class=\"colab-df-container\">\n",
              "    <div>\n",
              "<style scoped>\n",
              "    .dataframe tbody tr th:only-of-type {\n",
              "        vertical-align: middle;\n",
              "    }\n",
              "\n",
              "    .dataframe tbody tr th {\n",
              "        vertical-align: top;\n",
              "    }\n",
              "\n",
              "    .dataframe thead th {\n",
              "        text-align: right;\n",
              "    }\n",
              "</style>\n",
              "<table border=\"1\" class=\"dataframe\">\n",
              "  <thead>\n",
              "    <tr style=\"text-align: right;\">\n",
              "      <th></th>\n",
              "      <th>age</th>\n",
              "      <th>work</th>\n",
              "      <th>fnlwgt</th>\n",
              "      <th>edu</th>\n",
              "      <th>yredu</th>\n",
              "      <th>marriage</th>\n",
              "      <th>occupation</th>\n",
              "      <th>relationship</th>\n",
              "      <th>race</th>\n",
              "      <th>sex</th>\n",
              "      <th>capgain</th>\n",
              "      <th>caploss</th>\n",
              "      <th>workhr</th>\n",
              "      <th>country</th>\n",
              "    </tr>\n",
              "  </thead>\n",
              "  <tbody>\n",
              "    <tr>\n",
              "      <th>0</th>\n",
              "      <td>39</td>\n",
              "      <td>State-gov</td>\n",
              "      <td>77516</td>\n",
              "      <td>Bachelors</td>\n",
              "      <td>13</td>\n",
              "      <td>Never-married</td>\n",
              "      <td>Adm-clerical</td>\n",
              "      <td>Not-in-family</td>\n",
              "      <td>White</td>\n",
              "      <td>Male</td>\n",
              "      <td>2174</td>\n",
              "      <td>0</td>\n",
              "      <td>40</td>\n",
              "      <td>United-States</td>\n",
              "    </tr>\n",
              "    <tr>\n",
              "      <th>1</th>\n",
              "      <td>50</td>\n",
              "      <td>Self-emp-not-inc</td>\n",
              "      <td>83311</td>\n",
              "      <td>Bachelors</td>\n",
              "      <td>13</td>\n",
              "      <td>Married-civ-spouse</td>\n",
              "      <td>Exec-managerial</td>\n",
              "      <td>Husband</td>\n",
              "      <td>White</td>\n",
              "      <td>Male</td>\n",
              "      <td>0</td>\n",
              "      <td>0</td>\n",
              "      <td>13</td>\n",
              "      <td>United-States</td>\n",
              "    </tr>\n",
              "    <tr>\n",
              "      <th>2</th>\n",
              "      <td>38</td>\n",
              "      <td>Private</td>\n",
              "      <td>215646</td>\n",
              "      <td>HS-grad</td>\n",
              "      <td>9</td>\n",
              "      <td>Divorced</td>\n",
              "      <td>Handlers-cleaners</td>\n",
              "      <td>Not-in-family</td>\n",
              "      <td>White</td>\n",
              "      <td>Male</td>\n",
              "      <td>0</td>\n",
              "      <td>0</td>\n",
              "      <td>40</td>\n",
              "      <td>United-States</td>\n",
              "    </tr>\n",
              "  </tbody>\n",
              "</table>\n",
              "</div>\n",
              "    <div class=\"colab-df-buttons\">\n",
              "\n",
              "  <div class=\"colab-df-container\">\n",
              "    <button class=\"colab-df-convert\" onclick=\"convertToInteractive('df-e712d5f8-f6a8-4ab5-b4fd-56094521c0c5')\"\n",
              "            title=\"Convert this dataframe to an interactive table.\"\n",
              "            style=\"display:none;\">\n",
              "\n",
              "  <svg xmlns=\"http://www.w3.org/2000/svg\" height=\"24px\" viewBox=\"0 -960 960 960\">\n",
              "    <path d=\"M120-120v-720h720v720H120Zm60-500h600v-160H180v160Zm220 220h160v-160H400v160Zm0 220h160v-160H400v160ZM180-400h160v-160H180v160Zm440 0h160v-160H620v160ZM180-180h160v-160H180v160Zm440 0h160v-160H620v160Z\"/>\n",
              "  </svg>\n",
              "    </button>\n",
              "\n",
              "  <style>\n",
              "    .colab-df-container {\n",
              "      display:flex;\n",
              "      gap: 12px;\n",
              "    }\n",
              "\n",
              "    .colab-df-convert {\n",
              "      background-color: #E8F0FE;\n",
              "      border: none;\n",
              "      border-radius: 50%;\n",
              "      cursor: pointer;\n",
              "      display: none;\n",
              "      fill: #1967D2;\n",
              "      height: 32px;\n",
              "      padding: 0 0 0 0;\n",
              "      width: 32px;\n",
              "    }\n",
              "\n",
              "    .colab-df-convert:hover {\n",
              "      background-color: #E2EBFA;\n",
              "      box-shadow: 0px 1px 2px rgba(60, 64, 67, 0.3), 0px 1px 3px 1px rgba(60, 64, 67, 0.15);\n",
              "      fill: #174EA6;\n",
              "    }\n",
              "\n",
              "    .colab-df-buttons div {\n",
              "      margin-bottom: 4px;\n",
              "    }\n",
              "\n",
              "    [theme=dark] .colab-df-convert {\n",
              "      background-color: #3B4455;\n",
              "      fill: #D2E3FC;\n",
              "    }\n",
              "\n",
              "    [theme=dark] .colab-df-convert:hover {\n",
              "      background-color: #434B5C;\n",
              "      box-shadow: 0px 1px 3px 1px rgba(0, 0, 0, 0.15);\n",
              "      filter: drop-shadow(0px 1px 2px rgba(0, 0, 0, 0.3));\n",
              "      fill: #FFFFFF;\n",
              "    }\n",
              "  </style>\n",
              "\n",
              "    <script>\n",
              "      const buttonEl =\n",
              "        document.querySelector('#df-e712d5f8-f6a8-4ab5-b4fd-56094521c0c5 button.colab-df-convert');\n",
              "      buttonEl.style.display =\n",
              "        google.colab.kernel.accessAllowed ? 'block' : 'none';\n",
              "\n",
              "      async function convertToInteractive(key) {\n",
              "        const element = document.querySelector('#df-e712d5f8-f6a8-4ab5-b4fd-56094521c0c5');\n",
              "        const dataTable =\n",
              "          await google.colab.kernel.invokeFunction('convertToInteractive',\n",
              "                                                    [key], {});\n",
              "        if (!dataTable) return;\n",
              "\n",
              "        const docLinkHtml = 'Like what you see? Visit the ' +\n",
              "          '<a target=\"_blank\" href=https://colab.research.google.com/notebooks/data_table.ipynb>data table notebook</a>'\n",
              "          + ' to learn more about interactive tables.';\n",
              "        element.innerHTML = '';\n",
              "        dataTable['output_type'] = 'display_data';\n",
              "        await google.colab.output.renderOutput(dataTable, element);\n",
              "        const docLink = document.createElement('div');\n",
              "        docLink.innerHTML = docLinkHtml;\n",
              "        element.appendChild(docLink);\n",
              "      }\n",
              "    </script>\n",
              "  </div>\n",
              "\n",
              "\n",
              "<div id=\"df-2f9718e3-ae23-477b-9291-456075162a92\">\n",
              "  <button class=\"colab-df-quickchart\" onclick=\"quickchart('df-2f9718e3-ae23-477b-9291-456075162a92')\"\n",
              "            title=\"Suggest charts\"\n",
              "            style=\"display:none;\">\n",
              "\n",
              "<svg xmlns=\"http://www.w3.org/2000/svg\" height=\"24px\"viewBox=\"0 0 24 24\"\n",
              "     width=\"24px\">\n",
              "    <g>\n",
              "        <path d=\"M19 3H5c-1.1 0-2 .9-2 2v14c0 1.1.9 2 2 2h14c1.1 0 2-.9 2-2V5c0-1.1-.9-2-2-2zM9 17H7v-7h2v7zm4 0h-2V7h2v10zm4 0h-2v-4h2v4z\"/>\n",
              "    </g>\n",
              "</svg>\n",
              "  </button>\n",
              "\n",
              "<style>\n",
              "  .colab-df-quickchart {\n",
              "      --bg-color: #E8F0FE;\n",
              "      --fill-color: #1967D2;\n",
              "      --hover-bg-color: #E2EBFA;\n",
              "      --hover-fill-color: #174EA6;\n",
              "      --disabled-fill-color: #AAA;\n",
              "      --disabled-bg-color: #DDD;\n",
              "  }\n",
              "\n",
              "  [theme=dark] .colab-df-quickchart {\n",
              "      --bg-color: #3B4455;\n",
              "      --fill-color: #D2E3FC;\n",
              "      --hover-bg-color: #434B5C;\n",
              "      --hover-fill-color: #FFFFFF;\n",
              "      --disabled-bg-color: #3B4455;\n",
              "      --disabled-fill-color: #666;\n",
              "  }\n",
              "\n",
              "  .colab-df-quickchart {\n",
              "    background-color: var(--bg-color);\n",
              "    border: none;\n",
              "    border-radius: 50%;\n",
              "    cursor: pointer;\n",
              "    display: none;\n",
              "    fill: var(--fill-color);\n",
              "    height: 32px;\n",
              "    padding: 0;\n",
              "    width: 32px;\n",
              "  }\n",
              "\n",
              "  .colab-df-quickchart:hover {\n",
              "    background-color: var(--hover-bg-color);\n",
              "    box-shadow: 0 1px 2px rgba(60, 64, 67, 0.3), 0 1px 3px 1px rgba(60, 64, 67, 0.15);\n",
              "    fill: var(--button-hover-fill-color);\n",
              "  }\n",
              "\n",
              "  .colab-df-quickchart-complete:disabled,\n",
              "  .colab-df-quickchart-complete:disabled:hover {\n",
              "    background-color: var(--disabled-bg-color);\n",
              "    fill: var(--disabled-fill-color);\n",
              "    box-shadow: none;\n",
              "  }\n",
              "\n",
              "  .colab-df-spinner {\n",
              "    border: 2px solid var(--fill-color);\n",
              "    border-color: transparent;\n",
              "    border-bottom-color: var(--fill-color);\n",
              "    animation:\n",
              "      spin 1s steps(1) infinite;\n",
              "  }\n",
              "\n",
              "  @keyframes spin {\n",
              "    0% {\n",
              "      border-color: transparent;\n",
              "      border-bottom-color: var(--fill-color);\n",
              "      border-left-color: var(--fill-color);\n",
              "    }\n",
              "    20% {\n",
              "      border-color: transparent;\n",
              "      border-left-color: var(--fill-color);\n",
              "      border-top-color: var(--fill-color);\n",
              "    }\n",
              "    30% {\n",
              "      border-color: transparent;\n",
              "      border-left-color: var(--fill-color);\n",
              "      border-top-color: var(--fill-color);\n",
              "      border-right-color: var(--fill-color);\n",
              "    }\n",
              "    40% {\n",
              "      border-color: transparent;\n",
              "      border-right-color: var(--fill-color);\n",
              "      border-top-color: var(--fill-color);\n",
              "    }\n",
              "    60% {\n",
              "      border-color: transparent;\n",
              "      border-right-color: var(--fill-color);\n",
              "    }\n",
              "    80% {\n",
              "      border-color: transparent;\n",
              "      border-right-color: var(--fill-color);\n",
              "      border-bottom-color: var(--fill-color);\n",
              "    }\n",
              "    90% {\n",
              "      border-color: transparent;\n",
              "      border-bottom-color: var(--fill-color);\n",
              "    }\n",
              "  }\n",
              "</style>\n",
              "\n",
              "  <script>\n",
              "    async function quickchart(key) {\n",
              "      const quickchartButtonEl =\n",
              "        document.querySelector('#' + key + ' button');\n",
              "      quickchartButtonEl.disabled = true;  // To prevent multiple clicks.\n",
              "      quickchartButtonEl.classList.add('colab-df-spinner');\n",
              "      try {\n",
              "        const charts = await google.colab.kernel.invokeFunction(\n",
              "            'suggestCharts', [key], {});\n",
              "      } catch (error) {\n",
              "        console.error('Error during call to suggestCharts:', error);\n",
              "      }\n",
              "      quickchartButtonEl.classList.remove('colab-df-spinner');\n",
              "      quickchartButtonEl.classList.add('colab-df-quickchart-complete');\n",
              "    }\n",
              "    (() => {\n",
              "      let quickchartButtonEl =\n",
              "        document.querySelector('#df-2f9718e3-ae23-477b-9291-456075162a92 button');\n",
              "      quickchartButtonEl.style.display =\n",
              "        google.colab.kernel.accessAllowed ? 'block' : 'none';\n",
              "    })();\n",
              "  </script>\n",
              "</div>\n",
              "\n",
              "    </div>\n",
              "  </div>\n"
            ],
            "application/vnd.google.colaboratory.intrinsic+json": {
              "type": "dataframe",
              "summary": "{\n  \"name\": \"df[:3] # show the first 3 records\",\n  \"rows\": 3,\n  \"fields\": [\n    {\n      \"column\": \"age\",\n      \"properties\": {\n        \"dtype\": \"number\",\n        \"std\": 6,\n        \"min\": 38,\n        \"max\": 50,\n        \"num_unique_values\": 3,\n        \"samples\": [\n          39,\n          50,\n          38\n        ],\n        \"semantic_type\": \"\",\n        \"description\": \"\"\n      }\n    },\n    {\n      \"column\": \"work\",\n      \"properties\": {\n        \"dtype\": \"string\",\n        \"num_unique_values\": 3,\n        \"samples\": [\n          \" State-gov\",\n          \" Self-emp-not-inc\",\n          \" Private\"\n        ],\n        \"semantic_type\": \"\",\n        \"description\": \"\"\n      }\n    },\n    {\n      \"column\": \"fnlwgt\",\n      \"properties\": {\n        \"dtype\": \"number\",\n        \"std\": 78130,\n        \"min\": 77516,\n        \"max\": 215646,\n        \"num_unique_values\": 3,\n        \"samples\": [\n          77516,\n          83311,\n          215646\n        ],\n        \"semantic_type\": \"\",\n        \"description\": \"\"\n      }\n    },\n    {\n      \"column\": \"edu\",\n      \"properties\": {\n        \"dtype\": \"string\",\n        \"num_unique_values\": 2,\n        \"samples\": [\n          \" HS-grad\",\n          \" Bachelors\"\n        ],\n        \"semantic_type\": \"\",\n        \"description\": \"\"\n      }\n    },\n    {\n      \"column\": \"yredu\",\n      \"properties\": {\n        \"dtype\": \"number\",\n        \"std\": 2,\n        \"min\": 9,\n        \"max\": 13,\n        \"num_unique_values\": 2,\n        \"samples\": [\n          9,\n          13\n        ],\n        \"semantic_type\": \"\",\n        \"description\": \"\"\n      }\n    },\n    {\n      \"column\": \"marriage\",\n      \"properties\": {\n        \"dtype\": \"string\",\n        \"num_unique_values\": 3,\n        \"samples\": [\n          \" Never-married\",\n          \" Married-civ-spouse\"\n        ],\n        \"semantic_type\": \"\",\n        \"description\": \"\"\n      }\n    },\n    {\n      \"column\": \"occupation\",\n      \"properties\": {\n        \"dtype\": \"string\",\n        \"num_unique_values\": 3,\n        \"samples\": [\n          \" Adm-clerical\",\n          \" Exec-managerial\"\n        ],\n        \"semantic_type\": \"\",\n        \"description\": \"\"\n      }\n    },\n    {\n      \"column\": \"relationship\",\n      \"properties\": {\n        \"dtype\": \"string\",\n        \"num_unique_values\": 2,\n        \"samples\": [\n          \" Husband\",\n          \" Not-in-family\"\n        ],\n        \"semantic_type\": \"\",\n        \"description\": \"\"\n      }\n    },\n    {\n      \"column\": \"race\",\n      \"properties\": {\n        \"dtype\": \"category\",\n        \"num_unique_values\": 1,\n        \"samples\": [\n          \" White\"\n        ],\n        \"semantic_type\": \"\",\n        \"description\": \"\"\n      }\n    },\n    {\n      \"column\": \"sex\",\n      \"properties\": {\n        \"dtype\": \"category\",\n        \"num_unique_values\": 1,\n        \"samples\": [\n          \" Male\"\n        ],\n        \"semantic_type\": \"\",\n        \"description\": \"\"\n      }\n    },\n    {\n      \"column\": \"capgain\",\n      \"properties\": {\n        \"dtype\": \"number\",\n        \"std\": 1255,\n        \"min\": 0,\n        \"max\": 2174,\n        \"num_unique_values\": 2,\n        \"samples\": [\n          0\n        ],\n        \"semantic_type\": \"\",\n        \"description\": \"\"\n      }\n    },\n    {\n      \"column\": \"caploss\",\n      \"properties\": {\n        \"dtype\": \"number\",\n        \"std\": 0,\n        \"min\": 0,\n        \"max\": 0,\n        \"num_unique_values\": 1,\n        \"samples\": [\n          0\n        ],\n        \"semantic_type\": \"\",\n        \"description\": \"\"\n      }\n    },\n    {\n      \"column\": \"workhr\",\n      \"properties\": {\n        \"dtype\": \"number\",\n        \"std\": 15,\n        \"min\": 13,\n        \"max\": 40,\n        \"num_unique_values\": 2,\n        \"samples\": [\n          13\n        ],\n        \"semantic_type\": \"\",\n        \"description\": \"\"\n      }\n    },\n    {\n      \"column\": \"country\",\n      \"properties\": {\n        \"dtype\": \"category\",\n        \"num_unique_values\": 1,\n        \"samples\": [\n          \" United-States\"\n        ],\n        \"semantic_type\": \"\",\n        \"description\": \"\"\n      }\n    }\n  ]\n}"
            }
          },
          "metadata": {},
          "execution_count": 9
        }
      ],
      "source": [
        "df[:3] # show the first 3 records"
      ]
    },
    {
      "cell_type": "markdown",
      "metadata": {
        "id": "gBOojI6W1pqA"
      },
      "source": [
        "Alternatively, we can slice based on column names,\n",
        "for example `df[\"race\"]`, `df[\"hr\"]`, or even index multiple columns\n",
        "like below."
      ]
    },
    {
      "cell_type": "code",
      "execution_count": 10,
      "metadata": {
        "id": "4v6pp73A1pqB",
        "outputId": "37f5400b-ee50-43b5-fb82-a7e1e724803c",
        "colab": {
          "base_uri": "https://localhost:8080/",
          "height": 143
        }
      },
      "outputs": [
        {
          "output_type": "execute_result",
          "data": {
            "text/plain": [
              "   age  yredu  capgain  caploss  workhr\n",
              "0   39     13     2174        0      40\n",
              "1   50     13        0        0      13\n",
              "2   38      9        0        0      40"
            ],
            "text/html": [
              "\n",
              "  <div id=\"df-555a40de-836e-495e-aa0e-7f36e7bae184\" class=\"colab-df-container\">\n",
              "    <div>\n",
              "<style scoped>\n",
              "    .dataframe tbody tr th:only-of-type {\n",
              "        vertical-align: middle;\n",
              "    }\n",
              "\n",
              "    .dataframe tbody tr th {\n",
              "        vertical-align: top;\n",
              "    }\n",
              "\n",
              "    .dataframe thead th {\n",
              "        text-align: right;\n",
              "    }\n",
              "</style>\n",
              "<table border=\"1\" class=\"dataframe\">\n",
              "  <thead>\n",
              "    <tr style=\"text-align: right;\">\n",
              "      <th></th>\n",
              "      <th>age</th>\n",
              "      <th>yredu</th>\n",
              "      <th>capgain</th>\n",
              "      <th>caploss</th>\n",
              "      <th>workhr</th>\n",
              "    </tr>\n",
              "  </thead>\n",
              "  <tbody>\n",
              "    <tr>\n",
              "      <th>0</th>\n",
              "      <td>39</td>\n",
              "      <td>13</td>\n",
              "      <td>2174</td>\n",
              "      <td>0</td>\n",
              "      <td>40</td>\n",
              "    </tr>\n",
              "    <tr>\n",
              "      <th>1</th>\n",
              "      <td>50</td>\n",
              "      <td>13</td>\n",
              "      <td>0</td>\n",
              "      <td>0</td>\n",
              "      <td>13</td>\n",
              "    </tr>\n",
              "    <tr>\n",
              "      <th>2</th>\n",
              "      <td>38</td>\n",
              "      <td>9</td>\n",
              "      <td>0</td>\n",
              "      <td>0</td>\n",
              "      <td>40</td>\n",
              "    </tr>\n",
              "  </tbody>\n",
              "</table>\n",
              "</div>\n",
              "    <div class=\"colab-df-buttons\">\n",
              "\n",
              "  <div class=\"colab-df-container\">\n",
              "    <button class=\"colab-df-convert\" onclick=\"convertToInteractive('df-555a40de-836e-495e-aa0e-7f36e7bae184')\"\n",
              "            title=\"Convert this dataframe to an interactive table.\"\n",
              "            style=\"display:none;\">\n",
              "\n",
              "  <svg xmlns=\"http://www.w3.org/2000/svg\" height=\"24px\" viewBox=\"0 -960 960 960\">\n",
              "    <path d=\"M120-120v-720h720v720H120Zm60-500h600v-160H180v160Zm220 220h160v-160H400v160Zm0 220h160v-160H400v160ZM180-400h160v-160H180v160Zm440 0h160v-160H620v160ZM180-180h160v-160H180v160Zm440 0h160v-160H620v160Z\"/>\n",
              "  </svg>\n",
              "    </button>\n",
              "\n",
              "  <style>\n",
              "    .colab-df-container {\n",
              "      display:flex;\n",
              "      gap: 12px;\n",
              "    }\n",
              "\n",
              "    .colab-df-convert {\n",
              "      background-color: #E8F0FE;\n",
              "      border: none;\n",
              "      border-radius: 50%;\n",
              "      cursor: pointer;\n",
              "      display: none;\n",
              "      fill: #1967D2;\n",
              "      height: 32px;\n",
              "      padding: 0 0 0 0;\n",
              "      width: 32px;\n",
              "    }\n",
              "\n",
              "    .colab-df-convert:hover {\n",
              "      background-color: #E2EBFA;\n",
              "      box-shadow: 0px 1px 2px rgba(60, 64, 67, 0.3), 0px 1px 3px 1px rgba(60, 64, 67, 0.15);\n",
              "      fill: #174EA6;\n",
              "    }\n",
              "\n",
              "    .colab-df-buttons div {\n",
              "      margin-bottom: 4px;\n",
              "    }\n",
              "\n",
              "    [theme=dark] .colab-df-convert {\n",
              "      background-color: #3B4455;\n",
              "      fill: #D2E3FC;\n",
              "    }\n",
              "\n",
              "    [theme=dark] .colab-df-convert:hover {\n",
              "      background-color: #434B5C;\n",
              "      box-shadow: 0px 1px 3px 1px rgba(0, 0, 0, 0.15);\n",
              "      filter: drop-shadow(0px 1px 2px rgba(0, 0, 0, 0.3));\n",
              "      fill: #FFFFFF;\n",
              "    }\n",
              "  </style>\n",
              "\n",
              "    <script>\n",
              "      const buttonEl =\n",
              "        document.querySelector('#df-555a40de-836e-495e-aa0e-7f36e7bae184 button.colab-df-convert');\n",
              "      buttonEl.style.display =\n",
              "        google.colab.kernel.accessAllowed ? 'block' : 'none';\n",
              "\n",
              "      async function convertToInteractive(key) {\n",
              "        const element = document.querySelector('#df-555a40de-836e-495e-aa0e-7f36e7bae184');\n",
              "        const dataTable =\n",
              "          await google.colab.kernel.invokeFunction('convertToInteractive',\n",
              "                                                    [key], {});\n",
              "        if (!dataTable) return;\n",
              "\n",
              "        const docLinkHtml = 'Like what you see? Visit the ' +\n",
              "          '<a target=\"_blank\" href=https://colab.research.google.com/notebooks/data_table.ipynb>data table notebook</a>'\n",
              "          + ' to learn more about interactive tables.';\n",
              "        element.innerHTML = '';\n",
              "        dataTable['output_type'] = 'display_data';\n",
              "        await google.colab.output.renderOutput(dataTable, element);\n",
              "        const docLink = document.createElement('div');\n",
              "        docLink.innerHTML = docLinkHtml;\n",
              "        element.appendChild(docLink);\n",
              "      }\n",
              "    </script>\n",
              "  </div>\n",
              "\n",
              "\n",
              "<div id=\"df-3e346a3e-59f8-4132-a1da-ff81b961cb94\">\n",
              "  <button class=\"colab-df-quickchart\" onclick=\"quickchart('df-3e346a3e-59f8-4132-a1da-ff81b961cb94')\"\n",
              "            title=\"Suggest charts\"\n",
              "            style=\"display:none;\">\n",
              "\n",
              "<svg xmlns=\"http://www.w3.org/2000/svg\" height=\"24px\"viewBox=\"0 0 24 24\"\n",
              "     width=\"24px\">\n",
              "    <g>\n",
              "        <path d=\"M19 3H5c-1.1 0-2 .9-2 2v14c0 1.1.9 2 2 2h14c1.1 0 2-.9 2-2V5c0-1.1-.9-2-2-2zM9 17H7v-7h2v7zm4 0h-2V7h2v10zm4 0h-2v-4h2v4z\"/>\n",
              "    </g>\n",
              "</svg>\n",
              "  </button>\n",
              "\n",
              "<style>\n",
              "  .colab-df-quickchart {\n",
              "      --bg-color: #E8F0FE;\n",
              "      --fill-color: #1967D2;\n",
              "      --hover-bg-color: #E2EBFA;\n",
              "      --hover-fill-color: #174EA6;\n",
              "      --disabled-fill-color: #AAA;\n",
              "      --disabled-bg-color: #DDD;\n",
              "  }\n",
              "\n",
              "  [theme=dark] .colab-df-quickchart {\n",
              "      --bg-color: #3B4455;\n",
              "      --fill-color: #D2E3FC;\n",
              "      --hover-bg-color: #434B5C;\n",
              "      --hover-fill-color: #FFFFFF;\n",
              "      --disabled-bg-color: #3B4455;\n",
              "      --disabled-fill-color: #666;\n",
              "  }\n",
              "\n",
              "  .colab-df-quickchart {\n",
              "    background-color: var(--bg-color);\n",
              "    border: none;\n",
              "    border-radius: 50%;\n",
              "    cursor: pointer;\n",
              "    display: none;\n",
              "    fill: var(--fill-color);\n",
              "    height: 32px;\n",
              "    padding: 0;\n",
              "    width: 32px;\n",
              "  }\n",
              "\n",
              "  .colab-df-quickchart:hover {\n",
              "    background-color: var(--hover-bg-color);\n",
              "    box-shadow: 0 1px 2px rgba(60, 64, 67, 0.3), 0 1px 3px 1px rgba(60, 64, 67, 0.15);\n",
              "    fill: var(--button-hover-fill-color);\n",
              "  }\n",
              "\n",
              "  .colab-df-quickchart-complete:disabled,\n",
              "  .colab-df-quickchart-complete:disabled:hover {\n",
              "    background-color: var(--disabled-bg-color);\n",
              "    fill: var(--disabled-fill-color);\n",
              "    box-shadow: none;\n",
              "  }\n",
              "\n",
              "  .colab-df-spinner {\n",
              "    border: 2px solid var(--fill-color);\n",
              "    border-color: transparent;\n",
              "    border-bottom-color: var(--fill-color);\n",
              "    animation:\n",
              "      spin 1s steps(1) infinite;\n",
              "  }\n",
              "\n",
              "  @keyframes spin {\n",
              "    0% {\n",
              "      border-color: transparent;\n",
              "      border-bottom-color: var(--fill-color);\n",
              "      border-left-color: var(--fill-color);\n",
              "    }\n",
              "    20% {\n",
              "      border-color: transparent;\n",
              "      border-left-color: var(--fill-color);\n",
              "      border-top-color: var(--fill-color);\n",
              "    }\n",
              "    30% {\n",
              "      border-color: transparent;\n",
              "      border-left-color: var(--fill-color);\n",
              "      border-top-color: var(--fill-color);\n",
              "      border-right-color: var(--fill-color);\n",
              "    }\n",
              "    40% {\n",
              "      border-color: transparent;\n",
              "      border-right-color: var(--fill-color);\n",
              "      border-top-color: var(--fill-color);\n",
              "    }\n",
              "    60% {\n",
              "      border-color: transparent;\n",
              "      border-right-color: var(--fill-color);\n",
              "    }\n",
              "    80% {\n",
              "      border-color: transparent;\n",
              "      border-right-color: var(--fill-color);\n",
              "      border-bottom-color: var(--fill-color);\n",
              "    }\n",
              "    90% {\n",
              "      border-color: transparent;\n",
              "      border-bottom-color: var(--fill-color);\n",
              "    }\n",
              "  }\n",
              "</style>\n",
              "\n",
              "  <script>\n",
              "    async function quickchart(key) {\n",
              "      const quickchartButtonEl =\n",
              "        document.querySelector('#' + key + ' button');\n",
              "      quickchartButtonEl.disabled = true;  // To prevent multiple clicks.\n",
              "      quickchartButtonEl.classList.add('colab-df-spinner');\n",
              "      try {\n",
              "        const charts = await google.colab.kernel.invokeFunction(\n",
              "            'suggestCharts', [key], {});\n",
              "      } catch (error) {\n",
              "        console.error('Error during call to suggestCharts:', error);\n",
              "      }\n",
              "      quickchartButtonEl.classList.remove('colab-df-spinner');\n",
              "      quickchartButtonEl.classList.add('colab-df-quickchart-complete');\n",
              "    }\n",
              "    (() => {\n",
              "      let quickchartButtonEl =\n",
              "        document.querySelector('#df-3e346a3e-59f8-4132-a1da-ff81b961cb94 button');\n",
              "      quickchartButtonEl.style.display =\n",
              "        google.colab.kernel.accessAllowed ? 'block' : 'none';\n",
              "    })();\n",
              "  </script>\n",
              "</div>\n",
              "\n",
              "    </div>\n",
              "  </div>\n"
            ],
            "application/vnd.google.colaboratory.intrinsic+json": {
              "type": "dataframe",
              "summary": "{\n  \"name\": \"subdf[:3] # show the first 3 records\",\n  \"rows\": 3,\n  \"fields\": [\n    {\n      \"column\": \"age\",\n      \"properties\": {\n        \"dtype\": \"number\",\n        \"std\": 6,\n        \"min\": 38,\n        \"max\": 50,\n        \"num_unique_values\": 3,\n        \"samples\": [\n          39,\n          50,\n          38\n        ],\n        \"semantic_type\": \"\",\n        \"description\": \"\"\n      }\n    },\n    {\n      \"column\": \"yredu\",\n      \"properties\": {\n        \"dtype\": \"number\",\n        \"std\": 2,\n        \"min\": 9,\n        \"max\": 13,\n        \"num_unique_values\": 2,\n        \"samples\": [\n          9,\n          13\n        ],\n        \"semantic_type\": \"\",\n        \"description\": \"\"\n      }\n    },\n    {\n      \"column\": \"capgain\",\n      \"properties\": {\n        \"dtype\": \"number\",\n        \"std\": 1255,\n        \"min\": 0,\n        \"max\": 2174,\n        \"num_unique_values\": 2,\n        \"samples\": [\n          0,\n          2174\n        ],\n        \"semantic_type\": \"\",\n        \"description\": \"\"\n      }\n    },\n    {\n      \"column\": \"caploss\",\n      \"properties\": {\n        \"dtype\": \"number\",\n        \"std\": 0,\n        \"min\": 0,\n        \"max\": 0,\n        \"num_unique_values\": 1,\n        \"samples\": [\n          0\n        ],\n        \"semantic_type\": \"\",\n        \"description\": \"\"\n      }\n    },\n    {\n      \"column\": \"workhr\",\n      \"properties\": {\n        \"dtype\": \"number\",\n        \"std\": 15,\n        \"min\": 13,\n        \"max\": 40,\n        \"num_unique_values\": 2,\n        \"samples\": [\n          13\n        ],\n        \"semantic_type\": \"\",\n        \"description\": \"\"\n      }\n    }\n  ]\n}"
            }
          },
          "metadata": {},
          "execution_count": 10
        }
      ],
      "source": [
        "subdf = df[[\"age\", \"yredu\", \"capgain\", \"caploss\", \"workhr\"]]\n",
        "subdf[:3] # show the first 3 records"
      ]
    },
    {
      "cell_type": "markdown",
      "metadata": {
        "id": "2Nru2P0E1pqD"
      },
      "source": [
        "Numpy works nicely with pandas, like below:"
      ]
    },
    {
      "cell_type": "code",
      "execution_count": 11,
      "metadata": {
        "id": "JXrS6tjp1pqE",
        "outputId": "bd6e0f96-0e37-47ed-a2b3-8dc38ff6a151",
        "colab": {
          "base_uri": "https://localhost:8080/"
        }
      },
      "outputs": [
        {
          "output_type": "execute_result",
          "data": {
            "text/plain": [
              "2842700"
            ]
          },
          "metadata": {},
          "execution_count": 11
        }
      ],
      "source": [
        "np.sum(subdf[\"caploss\"])"
      ]
    },
    {
      "cell_type": "markdown",
      "metadata": {
        "id": "Mv5mbxDM1pqH"
      },
      "source": [
        "Just like numpy arrays, you can modify\n",
        "entire columns of data rather than one scalar element at a time.\n",
        "For example, the code  \n",
        "\n",
        "`df[\"age\"] = df[\"age\"] + 1`\n",
        "\n",
        "would increment everyone's age by 1."
      ]
    },
    {
      "cell_type": "code",
      "execution_count": 12,
      "metadata": {
        "collapsed": true,
        "id": "k5rlWD7-1pqH",
        "jupyter": {
          "outputs_hidden": true
        },
        "colab": {
          "base_uri": "https://localhost:8080/"
        },
        "outputId": "c3c5bd66-03eb-4c4d-fd0a-55d5d092617e"
      },
      "outputs": [
        {
          "output_type": "stream",
          "name": "stdout",
          "text": [
            "age: \n",
            "max = 90\n",
            "min = 17\n",
            "mean = 38.58164675532078\n",
            "\n",
            "yredu: \n",
            "max = 16\n",
            "min = 1\n",
            "mean = 10.0806793403151\n",
            "\n",
            "capgain: \n",
            "max = 99999\n",
            "min = 0\n",
            "mean = 1077.6488437087312\n",
            "\n",
            "caploss: \n",
            "max = 4356\n",
            "min = 0\n",
            "mean = 87.303829734959\n",
            "\n",
            "workhr: \n",
            "max = 99\n",
            "min = 1\n",
            "mean = 40.437455852092995\n"
          ]
        }
      ],
      "source": [
        "# calculate min, max, average\n",
        "print(\"age: \\nmax = \" + str(np.max(subdf[\"age\"])) + \"\\nmin = \" + str(np.min(subdf[\"age\"])) + \"\\nmean = \" + str(np.mean(subdf[\"age\"])))\n",
        "print(\"\\nyredu: \\nmax = \" + str(np.max(subdf[\"yredu\"])) + \"\\nmin = \" + str(np.min(subdf[\"yredu\"])) + \"\\nmean = \" + str(np.mean(subdf[\"yredu\"])))\n",
        "print(\"\\ncapgain: \\nmax = \" + str(np.max(subdf[\"capgain\"])) + \"\\nmin = \" + str(np.min(subdf[\"capgain\"])) + \"\\nmean = \" + str(np.mean(subdf[\"capgain\"])))\n",
        "print(\"\\ncaploss: \\nmax = \" + str(np.max(subdf[\"caploss\"])) + \"\\nmin = \" + str(np.min(subdf[\"caploss\"])) + \"\\nmean = \" + str(np.mean(subdf[\"caploss\"])))\n",
        "print(\"\\nworkhr: \\nmax = \" + str(np.max(subdf[\"workhr\"])) + \"\\nmin = \" + str(np.min(subdf[\"workhr\"])) + \"\\nmean = \" + str(np.mean(subdf[\"workhr\"])))"
      ]
    },
    {
      "cell_type": "code",
      "source": [
        "# Calculate min and max\n",
        "min_vals = df[[\"age\", \"yredu\", \"capgain\", \"caploss\", \"workhr\"]].min()\n",
        "max_vals = df[[\"age\", \"yredu\", \"capgain\", \"caploss\", \"workhr\"]].max()\n",
        "\n",
        "# normalize (x-xmin/xmax-xmin)\n",
        "df[[\"age\", \"yredu\", \"capgain\", \"caploss\", \"workhr\"]] = (df[[\"age\", \"yredu\", \"capgain\", \"caploss\", \"workhr\"]] - min_vals) / (max_vals - min_vals)"
      ],
      "metadata": {
        "id": "I_DjWZlnSpQ8"
      },
      "execution_count": 13,
      "outputs": []
    },
    {
      "cell_type": "markdown",
      "metadata": {
        "id": "qbfMly4R1pqK"
      },
      "source": [
        "### Part (b) Categorical Features [1 pt]\n",
        "\n",
        "What percentage of people in our data set are male? Note that the data labels all have an unfortunate space in the beginning, e.g. \" Male\" instead of \"Male\".\n",
        "\n",
        "What percentage of people in our data set are female?"
      ]
    },
    {
      "cell_type": "code",
      "execution_count": 14,
      "metadata": {
        "id": "DjAjcsB_1pqK"
      },
      "outputs": [],
      "source": [
        "# hint: you can do something like this in pandas\n",
        "males = sum(df[\"sex\"] == \" Male\")\n",
        "females = sum(df[\"sex\"] == \" Female\")\n",
        "total = males + females"
      ]
    },
    {
      "cell_type": "code",
      "source": [
        "print(str((males/total)*100) + \"% of people are male\")\n",
        "print(str((females/total)*100) + \"% of people are female\")"
      ],
      "metadata": {
        "colab": {
          "base_uri": "https://localhost:8080/"
        },
        "id": "2DCYbPlkRHWc",
        "outputId": "0b170cea-c605-4543-d583-f6f6665fe467"
      },
      "execution_count": 15,
      "outputs": [
        {
          "output_type": "stream",
          "name": "stdout",
          "text": [
            "66.92054912318419% of people are male\n",
            "33.07945087681583% of people are female\n"
          ]
        }
      ]
    },
    {
      "cell_type": "markdown",
      "metadata": {
        "id": "eGVw7pqL1pqN"
      },
      "source": [
        "### Part (c) [2 pt]\n",
        "\n",
        "Before proceeding, we will modify our data frame in a couple more ways:\n",
        "\n",
        "1. We will restrict ourselves to using a subset of the features (to simplify our autoencoder)\n",
        "2. We will remove any records (rows) already containing missing values, and store them in a second dataframe. We will only use records without missing values to train our autoencoder.\n",
        "\n",
        "Both of these steps are done for you, below.\n",
        "\n",
        "How many records contained missing features? What percentage of records were removed?"
      ]
    },
    {
      "cell_type": "code",
      "execution_count": 16,
      "metadata": {
        "collapsed": true,
        "id": "z6ewPUdv1pqO",
        "jupyter": {
          "outputs_hidden": true
        }
      },
      "outputs": [],
      "source": [
        "contcols = [\"age\", \"yredu\", \"capgain\", \"caploss\", \"workhr\"]\n",
        "catcols = [\"work\", \"marriage\", \"occupation\", \"edu\", \"relationship\", \"sex\"]\n",
        "features = contcols + catcols\n",
        "df = df[features]"
      ]
    },
    {
      "cell_type": "code",
      "execution_count": 17,
      "metadata": {
        "collapsed": true,
        "id": "fjdVll5a1pqQ",
        "jupyter": {
          "outputs_hidden": true
        }
      },
      "outputs": [],
      "source": [
        "missing = pd.concat([df[c] == \" ?\" for c in catcols], axis=1).any(axis=1)\n",
        "df_with_missing = df[missing]\n",
        "df_not_missing = df[~missing]"
      ]
    },
    {
      "cell_type": "code",
      "source": [
        "print(str(len(df_with_missing)) + \" records contained missing features\")\n",
        "print(str((len(df_with_missing)/len(df_with_missing + df_not_missing))*100) + \"% of records were removed\")"
      ],
      "metadata": {
        "colab": {
          "base_uri": "https://localhost:8080/"
        },
        "id": "6KPBK8DLVfF9",
        "outputId": "3efb527d-a925-4c90-f6ad-1c8f5ddfe5da"
      },
      "execution_count": 18,
      "outputs": [
        {
          "output_type": "stream",
          "name": "stdout",
          "text": [
            "1843 records contained missing features\n",
            "5.660145572924664% of records were removed\n"
          ]
        }
      ]
    },
    {
      "cell_type": "markdown",
      "metadata": {
        "id": "XuEpndTQ1pqU"
      },
      "source": [
        "### Part (d) One-Hot Encoding [1 pt]\n",
        "\n",
        "What are all the possible values of the feature \"work\" in `df_not_missing`? You may find the Python function `set` useful."
      ]
    },
    {
      "cell_type": "code",
      "execution_count": 19,
      "metadata": {
        "collapsed": true,
        "id": "iKFh4owE1pqV",
        "jupyter": {
          "outputs_hidden": true
        },
        "colab": {
          "base_uri": "https://localhost:8080/"
        },
        "outputId": "2a72f724-0e85-40c5-bd44-2c2c0112d643"
      },
      "outputs": [
        {
          "output_type": "execute_result",
          "data": {
            "text/plain": [
              "{' Federal-gov',\n",
              " ' Local-gov',\n",
              " ' Private',\n",
              " ' Self-emp-inc',\n",
              " ' Self-emp-not-inc',\n",
              " ' State-gov',\n",
              " ' Without-pay'}"
            ]
          },
          "metadata": {},
          "execution_count": 19
        }
      ],
      "source": [
        "set(df_not_missing['work'])"
      ]
    },
    {
      "cell_type": "markdown",
      "metadata": {
        "id": "COv3HaKr1pqY"
      },
      "source": [
        "We will be using a one-hot encoding to represent each of the categorical variables.\n",
        "Our autoencoder will be trained using these one-hot encodings.\n",
        "\n",
        "We will use the pandas function `get_dummies` to produce one-hot encodings\n",
        "for all of the categorical variables in `df_not_missing`."
      ]
    },
    {
      "cell_type": "code",
      "execution_count": 20,
      "metadata": {
        "collapsed": true,
        "id": "eKlSYmJg1pqZ",
        "jupyter": {
          "outputs_hidden": true
        }
      },
      "outputs": [],
      "source": [
        "data = pd.get_dummies(df_not_missing)"
      ]
    },
    {
      "cell_type": "code",
      "execution_count": 21,
      "metadata": {
        "collapsed": true,
        "id": "3y7nTZ7H1pqb",
        "jupyter": {
          "outputs_hidden": true
        },
        "scrolled": true,
        "colab": {
          "base_uri": "https://localhost:8080/",
          "height": 262
        },
        "outputId": "25777b35-8699-4e9d-bb94-da73ede120a0"
      },
      "outputs": [
        {
          "output_type": "execute_result",
          "data": {
            "text/plain": [
              "        age     yredu  capgain  caploss    workhr  work_ Federal-gov  \\\n",
              "0  0.301370  0.800000  0.02174      0.0  0.397959              False   \n",
              "1  0.452055  0.800000  0.00000      0.0  0.122449              False   \n",
              "2  0.287671  0.533333  0.00000      0.0  0.397959              False   \n",
              "\n",
              "   work_ Local-gov  work_ Private  work_ Self-emp-inc  work_ Self-emp-not-inc  \\\n",
              "0            False          False               False                   False   \n",
              "1            False          False               False                    True   \n",
              "2            False           True               False                   False   \n",
              "\n",
              "   ...  edu_ Prof-school  edu_ Some-college  relationship_ Husband  \\\n",
              "0  ...             False              False                  False   \n",
              "1  ...             False              False                   True   \n",
              "2  ...             False              False                  False   \n",
              "\n",
              "   relationship_ Not-in-family  relationship_ Other-relative  \\\n",
              "0                         True                         False   \n",
              "1                        False                         False   \n",
              "2                         True                         False   \n",
              "\n",
              "   relationship_ Own-child  relationship_ Unmarried  relationship_ Wife  \\\n",
              "0                    False                    False               False   \n",
              "1                    False                    False               False   \n",
              "2                    False                    False               False   \n",
              "\n",
              "   sex_ Female  sex_ Male  \n",
              "0        False       True  \n",
              "1        False       True  \n",
              "2        False       True  \n",
              "\n",
              "[3 rows x 57 columns]"
            ],
            "text/html": [
              "\n",
              "  <div id=\"df-c7244c07-1209-43b9-9bbf-7846f913f0cf\" class=\"colab-df-container\">\n",
              "    <div>\n",
              "<style scoped>\n",
              "    .dataframe tbody tr th:only-of-type {\n",
              "        vertical-align: middle;\n",
              "    }\n",
              "\n",
              "    .dataframe tbody tr th {\n",
              "        vertical-align: top;\n",
              "    }\n",
              "\n",
              "    .dataframe thead th {\n",
              "        text-align: right;\n",
              "    }\n",
              "</style>\n",
              "<table border=\"1\" class=\"dataframe\">\n",
              "  <thead>\n",
              "    <tr style=\"text-align: right;\">\n",
              "      <th></th>\n",
              "      <th>age</th>\n",
              "      <th>yredu</th>\n",
              "      <th>capgain</th>\n",
              "      <th>caploss</th>\n",
              "      <th>workhr</th>\n",
              "      <th>work_ Federal-gov</th>\n",
              "      <th>work_ Local-gov</th>\n",
              "      <th>work_ Private</th>\n",
              "      <th>work_ Self-emp-inc</th>\n",
              "      <th>work_ Self-emp-not-inc</th>\n",
              "      <th>...</th>\n",
              "      <th>edu_ Prof-school</th>\n",
              "      <th>edu_ Some-college</th>\n",
              "      <th>relationship_ Husband</th>\n",
              "      <th>relationship_ Not-in-family</th>\n",
              "      <th>relationship_ Other-relative</th>\n",
              "      <th>relationship_ Own-child</th>\n",
              "      <th>relationship_ Unmarried</th>\n",
              "      <th>relationship_ Wife</th>\n",
              "      <th>sex_ Female</th>\n",
              "      <th>sex_ Male</th>\n",
              "    </tr>\n",
              "  </thead>\n",
              "  <tbody>\n",
              "    <tr>\n",
              "      <th>0</th>\n",
              "      <td>0.301370</td>\n",
              "      <td>0.800000</td>\n",
              "      <td>0.02174</td>\n",
              "      <td>0.0</td>\n",
              "      <td>0.397959</td>\n",
              "      <td>False</td>\n",
              "      <td>False</td>\n",
              "      <td>False</td>\n",
              "      <td>False</td>\n",
              "      <td>False</td>\n",
              "      <td>...</td>\n",
              "      <td>False</td>\n",
              "      <td>False</td>\n",
              "      <td>False</td>\n",
              "      <td>True</td>\n",
              "      <td>False</td>\n",
              "      <td>False</td>\n",
              "      <td>False</td>\n",
              "      <td>False</td>\n",
              "      <td>False</td>\n",
              "      <td>True</td>\n",
              "    </tr>\n",
              "    <tr>\n",
              "      <th>1</th>\n",
              "      <td>0.452055</td>\n",
              "      <td>0.800000</td>\n",
              "      <td>0.00000</td>\n",
              "      <td>0.0</td>\n",
              "      <td>0.122449</td>\n",
              "      <td>False</td>\n",
              "      <td>False</td>\n",
              "      <td>False</td>\n",
              "      <td>False</td>\n",
              "      <td>True</td>\n",
              "      <td>...</td>\n",
              "      <td>False</td>\n",
              "      <td>False</td>\n",
              "      <td>True</td>\n",
              "      <td>False</td>\n",
              "      <td>False</td>\n",
              "      <td>False</td>\n",
              "      <td>False</td>\n",
              "      <td>False</td>\n",
              "      <td>False</td>\n",
              "      <td>True</td>\n",
              "    </tr>\n",
              "    <tr>\n",
              "      <th>2</th>\n",
              "      <td>0.287671</td>\n",
              "      <td>0.533333</td>\n",
              "      <td>0.00000</td>\n",
              "      <td>0.0</td>\n",
              "      <td>0.397959</td>\n",
              "      <td>False</td>\n",
              "      <td>False</td>\n",
              "      <td>True</td>\n",
              "      <td>False</td>\n",
              "      <td>False</td>\n",
              "      <td>...</td>\n",
              "      <td>False</td>\n",
              "      <td>False</td>\n",
              "      <td>False</td>\n",
              "      <td>True</td>\n",
              "      <td>False</td>\n",
              "      <td>False</td>\n",
              "      <td>False</td>\n",
              "      <td>False</td>\n",
              "      <td>False</td>\n",
              "      <td>True</td>\n",
              "    </tr>\n",
              "  </tbody>\n",
              "</table>\n",
              "<p>3 rows × 57 columns</p>\n",
              "</div>\n",
              "    <div class=\"colab-df-buttons\">\n",
              "\n",
              "  <div class=\"colab-df-container\">\n",
              "    <button class=\"colab-df-convert\" onclick=\"convertToInteractive('df-c7244c07-1209-43b9-9bbf-7846f913f0cf')\"\n",
              "            title=\"Convert this dataframe to an interactive table.\"\n",
              "            style=\"display:none;\">\n",
              "\n",
              "  <svg xmlns=\"http://www.w3.org/2000/svg\" height=\"24px\" viewBox=\"0 -960 960 960\">\n",
              "    <path d=\"M120-120v-720h720v720H120Zm60-500h600v-160H180v160Zm220 220h160v-160H400v160Zm0 220h160v-160H400v160ZM180-400h160v-160H180v160Zm440 0h160v-160H620v160ZM180-180h160v-160H180v160Zm440 0h160v-160H620v160Z\"/>\n",
              "  </svg>\n",
              "    </button>\n",
              "\n",
              "  <style>\n",
              "    .colab-df-container {\n",
              "      display:flex;\n",
              "      gap: 12px;\n",
              "    }\n",
              "\n",
              "    .colab-df-convert {\n",
              "      background-color: #E8F0FE;\n",
              "      border: none;\n",
              "      border-radius: 50%;\n",
              "      cursor: pointer;\n",
              "      display: none;\n",
              "      fill: #1967D2;\n",
              "      height: 32px;\n",
              "      padding: 0 0 0 0;\n",
              "      width: 32px;\n",
              "    }\n",
              "\n",
              "    .colab-df-convert:hover {\n",
              "      background-color: #E2EBFA;\n",
              "      box-shadow: 0px 1px 2px rgba(60, 64, 67, 0.3), 0px 1px 3px 1px rgba(60, 64, 67, 0.15);\n",
              "      fill: #174EA6;\n",
              "    }\n",
              "\n",
              "    .colab-df-buttons div {\n",
              "      margin-bottom: 4px;\n",
              "    }\n",
              "\n",
              "    [theme=dark] .colab-df-convert {\n",
              "      background-color: #3B4455;\n",
              "      fill: #D2E3FC;\n",
              "    }\n",
              "\n",
              "    [theme=dark] .colab-df-convert:hover {\n",
              "      background-color: #434B5C;\n",
              "      box-shadow: 0px 1px 3px 1px rgba(0, 0, 0, 0.15);\n",
              "      filter: drop-shadow(0px 1px 2px rgba(0, 0, 0, 0.3));\n",
              "      fill: #FFFFFF;\n",
              "    }\n",
              "  </style>\n",
              "\n",
              "    <script>\n",
              "      const buttonEl =\n",
              "        document.querySelector('#df-c7244c07-1209-43b9-9bbf-7846f913f0cf button.colab-df-convert');\n",
              "      buttonEl.style.display =\n",
              "        google.colab.kernel.accessAllowed ? 'block' : 'none';\n",
              "\n",
              "      async function convertToInteractive(key) {\n",
              "        const element = document.querySelector('#df-c7244c07-1209-43b9-9bbf-7846f913f0cf');\n",
              "        const dataTable =\n",
              "          await google.colab.kernel.invokeFunction('convertToInteractive',\n",
              "                                                    [key], {});\n",
              "        if (!dataTable) return;\n",
              "\n",
              "        const docLinkHtml = 'Like what you see? Visit the ' +\n",
              "          '<a target=\"_blank\" href=https://colab.research.google.com/notebooks/data_table.ipynb>data table notebook</a>'\n",
              "          + ' to learn more about interactive tables.';\n",
              "        element.innerHTML = '';\n",
              "        dataTable['output_type'] = 'display_data';\n",
              "        await google.colab.output.renderOutput(dataTable, element);\n",
              "        const docLink = document.createElement('div');\n",
              "        docLink.innerHTML = docLinkHtml;\n",
              "        element.appendChild(docLink);\n",
              "      }\n",
              "    </script>\n",
              "  </div>\n",
              "\n",
              "\n",
              "<div id=\"df-8c4e4a67-a4b4-4ccd-91b9-fdb1b657eae0\">\n",
              "  <button class=\"colab-df-quickchart\" onclick=\"quickchart('df-8c4e4a67-a4b4-4ccd-91b9-fdb1b657eae0')\"\n",
              "            title=\"Suggest charts\"\n",
              "            style=\"display:none;\">\n",
              "\n",
              "<svg xmlns=\"http://www.w3.org/2000/svg\" height=\"24px\"viewBox=\"0 0 24 24\"\n",
              "     width=\"24px\">\n",
              "    <g>\n",
              "        <path d=\"M19 3H5c-1.1 0-2 .9-2 2v14c0 1.1.9 2 2 2h14c1.1 0 2-.9 2-2V5c0-1.1-.9-2-2-2zM9 17H7v-7h2v7zm4 0h-2V7h2v10zm4 0h-2v-4h2v4z\"/>\n",
              "    </g>\n",
              "</svg>\n",
              "  </button>\n",
              "\n",
              "<style>\n",
              "  .colab-df-quickchart {\n",
              "      --bg-color: #E8F0FE;\n",
              "      --fill-color: #1967D2;\n",
              "      --hover-bg-color: #E2EBFA;\n",
              "      --hover-fill-color: #174EA6;\n",
              "      --disabled-fill-color: #AAA;\n",
              "      --disabled-bg-color: #DDD;\n",
              "  }\n",
              "\n",
              "  [theme=dark] .colab-df-quickchart {\n",
              "      --bg-color: #3B4455;\n",
              "      --fill-color: #D2E3FC;\n",
              "      --hover-bg-color: #434B5C;\n",
              "      --hover-fill-color: #FFFFFF;\n",
              "      --disabled-bg-color: #3B4455;\n",
              "      --disabled-fill-color: #666;\n",
              "  }\n",
              "\n",
              "  .colab-df-quickchart {\n",
              "    background-color: var(--bg-color);\n",
              "    border: none;\n",
              "    border-radius: 50%;\n",
              "    cursor: pointer;\n",
              "    display: none;\n",
              "    fill: var(--fill-color);\n",
              "    height: 32px;\n",
              "    padding: 0;\n",
              "    width: 32px;\n",
              "  }\n",
              "\n",
              "  .colab-df-quickchart:hover {\n",
              "    background-color: var(--hover-bg-color);\n",
              "    box-shadow: 0 1px 2px rgba(60, 64, 67, 0.3), 0 1px 3px 1px rgba(60, 64, 67, 0.15);\n",
              "    fill: var(--button-hover-fill-color);\n",
              "  }\n",
              "\n",
              "  .colab-df-quickchart-complete:disabled,\n",
              "  .colab-df-quickchart-complete:disabled:hover {\n",
              "    background-color: var(--disabled-bg-color);\n",
              "    fill: var(--disabled-fill-color);\n",
              "    box-shadow: none;\n",
              "  }\n",
              "\n",
              "  .colab-df-spinner {\n",
              "    border: 2px solid var(--fill-color);\n",
              "    border-color: transparent;\n",
              "    border-bottom-color: var(--fill-color);\n",
              "    animation:\n",
              "      spin 1s steps(1) infinite;\n",
              "  }\n",
              "\n",
              "  @keyframes spin {\n",
              "    0% {\n",
              "      border-color: transparent;\n",
              "      border-bottom-color: var(--fill-color);\n",
              "      border-left-color: var(--fill-color);\n",
              "    }\n",
              "    20% {\n",
              "      border-color: transparent;\n",
              "      border-left-color: var(--fill-color);\n",
              "      border-top-color: var(--fill-color);\n",
              "    }\n",
              "    30% {\n",
              "      border-color: transparent;\n",
              "      border-left-color: var(--fill-color);\n",
              "      border-top-color: var(--fill-color);\n",
              "      border-right-color: var(--fill-color);\n",
              "    }\n",
              "    40% {\n",
              "      border-color: transparent;\n",
              "      border-right-color: var(--fill-color);\n",
              "      border-top-color: var(--fill-color);\n",
              "    }\n",
              "    60% {\n",
              "      border-color: transparent;\n",
              "      border-right-color: var(--fill-color);\n",
              "    }\n",
              "    80% {\n",
              "      border-color: transparent;\n",
              "      border-right-color: var(--fill-color);\n",
              "      border-bottom-color: var(--fill-color);\n",
              "    }\n",
              "    90% {\n",
              "      border-color: transparent;\n",
              "      border-bottom-color: var(--fill-color);\n",
              "    }\n",
              "  }\n",
              "</style>\n",
              "\n",
              "  <script>\n",
              "    async function quickchart(key) {\n",
              "      const quickchartButtonEl =\n",
              "        document.querySelector('#' + key + ' button');\n",
              "      quickchartButtonEl.disabled = true;  // To prevent multiple clicks.\n",
              "      quickchartButtonEl.classList.add('colab-df-spinner');\n",
              "      try {\n",
              "        const charts = await google.colab.kernel.invokeFunction(\n",
              "            'suggestCharts', [key], {});\n",
              "      } catch (error) {\n",
              "        console.error('Error during call to suggestCharts:', error);\n",
              "      }\n",
              "      quickchartButtonEl.classList.remove('colab-df-spinner');\n",
              "      quickchartButtonEl.classList.add('colab-df-quickchart-complete');\n",
              "    }\n",
              "    (() => {\n",
              "      let quickchartButtonEl =\n",
              "        document.querySelector('#df-8c4e4a67-a4b4-4ccd-91b9-fdb1b657eae0 button');\n",
              "      quickchartButtonEl.style.display =\n",
              "        google.colab.kernel.accessAllowed ? 'block' : 'none';\n",
              "    })();\n",
              "  </script>\n",
              "</div>\n",
              "\n",
              "    </div>\n",
              "  </div>\n"
            ],
            "application/vnd.google.colaboratory.intrinsic+json": {
              "type": "dataframe"
            }
          },
          "metadata": {},
          "execution_count": 21
        }
      ],
      "source": [
        "data[:3]"
      ]
    },
    {
      "cell_type": "markdown",
      "metadata": {
        "id": "HwjDg1uM1pqe"
      },
      "source": [
        "### Part (e) One-Hot Encoding [2 pt]\n",
        "\n",
        "The dataframe `data` contains the cleaned and normalized data that we will use to train our denoising autoencoder.\n",
        "\n",
        "How many **columns** (features) are in the dataframe `data`?\n",
        "\n",
        "Briefly explain where that number come from."
      ]
    },
    {
      "cell_type": "code",
      "execution_count": 22,
      "metadata": {
        "collapsed": true,
        "id": "yjZ5N0Tl1pqf",
        "jupyter": {
          "outputs_hidden": true
        },
        "colab": {
          "base_uri": "https://localhost:8080/"
        },
        "outputId": "0e7afdeb-0956-4754-993d-af527fb95a26"
      },
      "outputs": [
        {
          "output_type": "stream",
          "name": "stdout",
          "text": [
            "There are 57 columns in the dataframe data\n"
          ]
        }
      ],
      "source": [
        "print(\"There are \" + str(len(data.columns)) + \" columns in the dataframe data\")"
      ]
    },
    {
      "cell_type": "markdown",
      "source": [
        "The number 57 comes from the number of features in the dataframe data. For example, these would include age, yredu, work_Federal-gov, work_Local-gov, edu_Prof-school, etc..."
      ],
      "metadata": {
        "id": "b40cJEPbXov4"
      }
    },
    {
      "cell_type": "markdown",
      "metadata": {
        "id": "OEJ0Ci3l1pqh"
      },
      "source": [
        "### Part (f) One-Hot Conversion [3 pt]\n",
        "\n",
        "We will convert the pandas data frame `data` into numpy, so that\n",
        "it can be further converted into a PyTorch tensor.\n",
        "However, in doing so, we lose the column label information that\n",
        "a panda data frame automatically stores.\n",
        "\n",
        "Complete the function `get_categorical_value` that will return\n",
        "the named value of a feature given a one-hot embedding.\n",
        "You may find the global variables `cat_index` and `cat_values`\n",
        "useful. (Display them and figure out what they are first.)\n",
        "\n",
        "We will need this function in the next part of the lab\n",
        "to interpret our autoencoder outputs. So, the input\n",
        "to our function `get_categorical_values` might not\n",
        "actually be \"one-hot\" -- the input may instead\n",
        "contain real-valued predictions from our neural network."
      ]
    },
    {
      "cell_type": "code",
      "execution_count": 23,
      "metadata": {
        "collapsed": true,
        "id": "ZmovX6gu1pqi",
        "jupyter": {
          "outputs_hidden": true
        }
      },
      "outputs": [],
      "source": [
        "datanp = data.values.astype(np.float32)"
      ]
    },
    {
      "cell_type": "code",
      "execution_count": 24,
      "metadata": {
        "collapsed": true,
        "id": "YRIa5MBd1pql",
        "jupyter": {
          "outputs_hidden": true
        }
      },
      "outputs": [],
      "source": [
        "cat_index = {}  # Mapping of feature -> start index of feature in a record\n",
        "cat_values = {} # Mapping of feature -> list of categorical values the feature can take\n",
        "\n",
        "# build up the cat_index and cat_values dictionary\n",
        "for i, header in enumerate(data.keys()):\n",
        "    if \"_\" in header: # categorical header\n",
        "        feature, value = header.split()\n",
        "        feature = feature[:-1] # remove the last char; it is always an underscore\n",
        "        if feature not in cat_index:\n",
        "            cat_index[feature] = i\n",
        "            cat_values[feature] = [value]\n",
        "        else:\n",
        "            cat_values[feature].append(value)\n",
        "\n",
        "def get_onehot(record, feature):\n",
        "    \"\"\"\n",
        "    Return the portion of `record` that is the one-hot encoding\n",
        "    of `feature`. For example, since the feature \"work\" is stored\n",
        "    in the indices [5:12] in each record, calling `get_range(record, \"work\")`\n",
        "    is equivalent to accessing `record[5:12]`.\n",
        "\n",
        "    Args:\n",
        "        - record: a numpy array representing one record, formatted\n",
        "                  the same way as a row in `data.np`\n",
        "        - feature: a string, should be an element of `catcols`\n",
        "    \"\"\"\n",
        "    start_index = cat_index[feature]\n",
        "    stop_index = cat_index[feature] + len(cat_values[feature])\n",
        "    return record[start_index:stop_index]\n",
        "\n",
        "def get_categorical_value(onehot, feature):\n",
        "    \"\"\"\n",
        "    Return the categorical value name of a feature given\n",
        "    a one-hot vector representing the feature.\n",
        "\n",
        "    Args:\n",
        "        - onehot: a numpy array one-hot representation of the feature\n",
        "        - feature: a string, should be an element of `catcols`\n",
        "\n",
        "    Examples:\n",
        "\n",
        "    >>> get_categorical_value(np.array([0., 0., 0., 0., 0., 1., 0.]), \"work\")\n",
        "    'State-gov'\n",
        "    >>> get_categorical_value(np.array([0.1, 0., 1.1, 0.2, 0., 1., 0.]), \"work\")\n",
        "    'Private'\n",
        "    \"\"\"\n",
        "    # <----- TODO: WRITE YOUR CODE HERE ----->\n",
        "    # You may find the variables `cat_index` and `cat_values`\n",
        "    # (created above) useful.\n",
        "    index = np.argmax(onehot)\n",
        "    feature_val = cat_values[feature]\n",
        "    name = feature_val[index]\n",
        "    return name"
      ]
    },
    {
      "cell_type": "code",
      "execution_count": 25,
      "metadata": {
        "collapsed": true,
        "id": "T_XXxZdh1pqv",
        "jupyter": {
          "outputs_hidden": true
        }
      },
      "outputs": [],
      "source": [
        "# more useful code, used during training, that depends on the function\n",
        "# you write above\n",
        "\n",
        "def get_feature(record, feature):\n",
        "    \"\"\"\n",
        "    Return the categorical feature value of a record\n",
        "    \"\"\"\n",
        "    onehot = get_onehot(record, feature)\n",
        "    return get_categorical_value(onehot, feature)\n",
        "\n",
        "def get_features(record):\n",
        "    \"\"\"\n",
        "    Return a dictionary of all categorical feature values of a record\n",
        "    \"\"\"\n",
        "    return { f: get_feature(record, f) for f in catcols }"
      ]
    },
    {
      "cell_type": "markdown",
      "metadata": {
        "id": "1_5ZZR_J1pqy"
      },
      "source": [
        "### Part (g) Train/Test Split [3 pt]\n",
        "\n",
        "Randomly split the data into approximately 70% training, 15% validation and 15% test.\n",
        "\n",
        "Report the number of items in your training, validation, and test set."
      ]
    },
    {
      "cell_type": "code",
      "execution_count": 26,
      "metadata": {
        "collapsed": true,
        "id": "TE_fTJJf1pqz",
        "jupyter": {
          "outputs_hidden": true
        }
      },
      "outputs": [],
      "source": [
        "# set the numpy seed for reproducibility\n",
        "# https://docs.scipy.org/doc/numpy/reference/generated/numpy.random.seed.html\n",
        "np.random.seed(50)\n",
        "\n",
        "# todo\n",
        "np.random.shuffle(datanp)\n",
        "train_ind = int(0.7 * len(datanp))\n",
        "val_ind = int(0.85 * len(datanp))\n",
        "\n",
        "train_set = datanp[:train_ind]\n",
        "val_set = datanp[train_ind:val_ind]\n",
        "test_set = datanp[val_ind:]"
      ]
    },
    {
      "cell_type": "code",
      "source": [
        "print(\"There are \" + str(len(train_set)) + \" items in the training set\")\n",
        "print(\"There are \" + str(len(val_set)) + \" items in the validation set\")\n",
        "print(\"There are \" + str(len(test_set)) + \" items in the test set\")"
      ],
      "metadata": {
        "colab": {
          "base_uri": "https://localhost:8080/"
        },
        "id": "1AhUDjpEcOj3",
        "outputId": "faa79cea-c311-41b6-f430-aa4b98110dd8"
      },
      "execution_count": 27,
      "outputs": [
        {
          "output_type": "stream",
          "name": "stdout",
          "text": [
            "There are 21502 items in the training set\n",
            "There are 4608 items in the validation set\n",
            "There are 4608 items in the test set\n"
          ]
        }
      ]
    },
    {
      "cell_type": "markdown",
      "metadata": {
        "id": "h9wJAKOI1pq3"
      },
      "source": [
        "## Part 2. Model Setup [5 pt]\n",
        "\n",
        "### Part (a) [4 pt]\n",
        "\n",
        "Design a fully-connected autoencoder by modifying the `encoder` and `decoder`\n",
        "below.\n",
        "\n",
        "The input to this autoencoder will be the features of the `data`, with\n",
        "one categorical feature recorded as \"missing\". The output of the autoencoder\n",
        "should be the reconstruction of the same features, but with the missing\n",
        "value filled in.\n",
        "\n",
        "**Note**: Do not reduce the dimensionality of the input too much!\n",
        "The output of your embedding is expected to contain information\n",
        "about ~11 features."
      ]
    },
    {
      "cell_type": "code",
      "execution_count": 28,
      "metadata": {
        "collapsed": true,
        "id": "f3F--tdn1pq3",
        "jupyter": {
          "outputs_hidden": true
        }
      },
      "outputs": [],
      "source": [
        "from torch import nn\n",
        "\n",
        "class AutoEncoder(nn.Module):\n",
        "    def __init__(self):\n",
        "        super(AutoEncoder, self).__init__()\n",
        "        self.name = \"autoencoder\"\n",
        "        self.encoder = nn.Sequential(\n",
        "            nn.Linear(57, 44),\n",
        "            nn.ReLU(),\n",
        "            nn.Linear(44, 22),\n",
        "            nn.ReLU(),\n",
        "            nn.Linear(22, 11)\n",
        "        )\n",
        "        self.decoder = nn.Sequential(\n",
        "            nn.Linear(11, 22),\n",
        "            nn.ReLU(),\n",
        "            nn.Linear(22, 44),\n",
        "            nn.ReLU(),\n",
        "            nn.Linear(44, 57),\n",
        "            nn.Sigmoid() # get to the range (0, 1)\n",
        "        )\n",
        "\n",
        "    def forward(self, x):\n",
        "        x = self.encoder(x)\n",
        "        x = self.decoder(x)\n",
        "        return x"
      ]
    },
    {
      "cell_type": "markdown",
      "metadata": {
        "id": "kuEzTSAv1pq6"
      },
      "source": [
        "### Part (b) [1 pt]\n",
        "\n",
        "Explain why there is a sigmoid activation in the last step of the decoder.\n",
        "\n",
        "(**Note**: the values inside the data frame `data` and the training code in Part 3 might be helpful.)"
      ]
    },
    {
      "cell_type": "markdown",
      "source": [
        "There is a sigmoid activation in the last step of the decoder because the output of the decoder should match the format of the input values from the dataframe data which are all values in the range (0, 1). The sigmoid activation ensures that the final output is normalized from (0, 1)."
      ],
      "metadata": {
        "id": "O1R6YC39fxRv"
      }
    },
    {
      "cell_type": "markdown",
      "metadata": {
        "id": "jYwqFWVl1pq8"
      },
      "source": [
        "## Part 3. Training [18]\n",
        "\n",
        "### Part (a) [6 pt]\n",
        "\n",
        "We will train our autoencoder in the following way:\n",
        "\n",
        "- In each iteration, we will hide one of the categorical features using the `zero_out_random_features` function\n",
        "- We will pass the data with one missing feature through the autoencoder, and obtain a reconstruction\n",
        "- We will check how close the reconstruction is compared to the original data -- including the value of the missing feature\n",
        "\n",
        "Complete the code to train the autoencoder, and plot the training and validation loss every few iterations.\n",
        "You may also want to plot training and validation \"accuracy\" every few iterations, as we will define in\n",
        "part (b). You may also want to checkpoint your model every few iterations or epochs.\n",
        "\n",
        "Use `nn.MSELoss()` as your loss function. (Side note: you might recognize that this loss function is not\n",
        "ideal for this problem, but we will use it anyway.)"
      ]
    },
    {
      "cell_type": "code",
      "execution_count": 29,
      "metadata": {
        "collapsed": true,
        "id": "IDQA_-dS1pq9",
        "jupyter": {
          "outputs_hidden": true
        }
      },
      "outputs": [],
      "source": [
        "def zero_out_feature(records, feature):\n",
        "    \"\"\" Set the feature missing in records, by setting the appropriate\n",
        "    columns of records to 0\n",
        "    \"\"\"\n",
        "    start_index = cat_index[feature]\n",
        "    stop_index = cat_index[feature] + len(cat_values[feature])\n",
        "    records[:, start_index:stop_index] = 0\n",
        "    return records\n",
        "\n",
        "def zero_out_random_feature(records):\n",
        "    \"\"\" Set one random feature missing in records, by setting the\n",
        "    appropriate columns of records to 0\n",
        "    \"\"\"\n",
        "    return zero_out_feature(records, random.choice(catcols))\n",
        "\n",
        "def get_loss(model, loader, criterion):\n",
        "    \"\"\" Calculates and returns the loss of the model for the respective data loader\n",
        "    \"\"\"\n",
        "    total_loss = 0.0\n",
        "    i = 0\n",
        "    for data in loader:\n",
        "        datam = zero_out_random_feature(data.clone()) # zero out one categorical feature\n",
        "        recon = model(datam)\n",
        "        loss = criterion(recon, data)\n",
        "        total_loss += loss.item()\n",
        "        i+=1\n",
        "    loader_loss = float(total_loss) / (i+1)\n",
        "    return loader_loss\n",
        "\n",
        "def plot_training_curve(path):\n",
        "    \"\"\" Plots the training curve for a model run, given the csv files\n",
        "    containing the train/validation accuracy/loss.\n",
        "\n",
        "    Args:\n",
        "        path: The base path of the csv files produced during training\n",
        "    \"\"\"\n",
        "    import matplotlib.pyplot as plt\n",
        "    train_acc = np.loadtxt(\"{}_train_acc.csv\".format(path))\n",
        "    val_acc = np.loadtxt(\"{}_val_acc.csv\".format(path))\n",
        "    train_loss = np.loadtxt(\"{}_train_loss.csv\".format(path))\n",
        "    val_loss = np.loadtxt(\"{}_val_loss.csv\".format(path))\n",
        "    plt.title(\"Train vs Validation Accuracy\")\n",
        "    n = len(train_acc) # number of epochs\n",
        "    plt.plot(range(1,n+1), train_acc, label=\"Train\")\n",
        "    plt.plot(range(1,n+1), val_acc, label=\"Validation\")\n",
        "    plt.xlabel(\"Epoch\")\n",
        "    plt.ylabel(\"Error\")\n",
        "    plt.legend(loc='best')\n",
        "    plt.show()\n",
        "    plt.title(\"Train vs Validation Loss\")\n",
        "    plt.plot(range(1,n+1), train_loss, label=\"Train\")\n",
        "    plt.plot(range(1,n+1), val_loss, label=\"Validation\")\n",
        "    plt.xlabel(\"Epoch\")\n",
        "    plt.ylabel(\"Loss\")\n",
        "    plt.legend(loc='best')\n",
        "    plt.show()\n",
        "\n",
        "def get_model_name(name, learning_rate, epoch):\n",
        "    \"\"\" Generate a name for the model consisting of all the hyperparameter values\n",
        "\n",
        "    Args:\n",
        "        config: Configuration object containing the hyperparameters\n",
        "    Returns:\n",
        "        path: A string with the hyperparameter name and value concatenated\n",
        "    \"\"\"\n",
        "    path = \"model_{0}_lr{1}_epoch{2}\".format(name,\n",
        "                                              learning_rate,\n",
        "                                              epoch)\n",
        "    return path\n",
        "\n",
        "def train(model, train_loader, valid_loader, num_epochs=5, learning_rate=1e-4):\n",
        "    \"\"\" Training loop. You should update this.\"\"\"\n",
        "\n",
        "    train_acc = np.zeros(num_epochs)\n",
        "    train_loss = np.zeros(num_epochs)\n",
        "    val_acc = np.zeros(num_epochs)\n",
        "    val_loss = np.zeros(num_epochs)\n",
        "    total_train_loss = 0.0\n",
        "    i = 0\n",
        "\n",
        "    torch.manual_seed(42)\n",
        "    criterion = nn.MSELoss()\n",
        "    optimizer = torch.optim.Adam(model.parameters(), lr=learning_rate)\n",
        "\n",
        "    for epoch in range(num_epochs):\n",
        "        for data in train_loader:\n",
        "            datam = zero_out_random_feature(data.clone()) # zero out one categorical feature\n",
        "            recon = model(datam)\n",
        "            loss = criterion(recon, data)\n",
        "            loss.backward()\n",
        "            optimizer.step()\n",
        "            optimizer.zero_grad()\n",
        "            total_train_loss += loss.item()\n",
        "            i+=1\n",
        "\n",
        "# calculating the accuracy and loss averages and appending to the arrays\n",
        "        train_acc[epoch] = get_accuracy(model, train_loader)\n",
        "        train_loss[epoch] = float(total_train_loss)/ (i+1)\n",
        "        val_acc[epoch] = get_accuracy(model, valid_loader)\n",
        "        val_loss[epoch] = get_loss(model, valid_loader, criterion)\n",
        "\n",
        "        print((\"Epoch {}: Train acc: {}, Train loss: {} |\"+\n",
        "                  \"Validation acc: {}, Validation loss: {}\").format(\n",
        "                      epoch + 1,\n",
        "                      train_acc[epoch],\n",
        "                      train_loss[epoch],\n",
        "                      val_acc[epoch],\n",
        "                      val_loss[epoch]))\n",
        "\n",
        "# Save the current model (checkpoint) to a file\n",
        "    model_path = get_model_name(model.name, learning_rate, epoch)\n",
        "    torch.save(model.state_dict(), model_path)\n",
        "    epochs = np.arange(1, num_epochs + 1)\n",
        "    np.savetxt(\"{}_train_acc.csv\".format(model_path), train_acc)\n",
        "    np.savetxt(\"{}_train_loss.csv\".format(model_path), train_loss)\n",
        "    np.savetxt(\"{}_val_acc.csv\".format(model_path), val_acc)\n",
        "    np.savetxt(\"{}_val_loss.csv\".format(model_path), val_loss)\n",
        "\n",
        "    plot_training_curve(model_path)"
      ]
    },
    {
      "cell_type": "markdown",
      "metadata": {
        "id": "WKk01pwx1pq_"
      },
      "source": [
        "### Part (b) [3 pt]\n",
        "\n",
        "While plotting training and validation loss is valuable, loss values are harder to compare\n",
        "than accuracy percentages. It would be nice to have a measure of \"accuracy\" in this problem.\n",
        "\n",
        "Since we will only be imputing missing categorical values, we will define an accuracy measure.\n",
        "For each record and for each categorical feature, we determine whether\n",
        "the model can predict the categorical feature given all the other features of the record.\n",
        "\n",
        "A function `get_accuracy` is written for you. It is up to you to figure out how to\n",
        "use the function. **You don't need to submit anything in this part.**\n",
        "To earn the marks, correctly plot the training and validation accuracy every few\n",
        "iterations as part of your training curve."
      ]
    },
    {
      "cell_type": "code",
      "execution_count": 30,
      "metadata": {
        "collapsed": true,
        "id": "bHWLfCzM1pq_",
        "jupyter": {
          "outputs_hidden": true
        }
      },
      "outputs": [],
      "source": [
        "def get_accuracy(model, data_loader):\n",
        "    \"\"\"Return the \"accuracy\" of the autoencoder model across a data set.\n",
        "    That is, for each record and for each categorical feature,\n",
        "    we determine whether the model can successfully predict the value\n",
        "    of the categorical feature given all the other features of the\n",
        "    record. The returned \"accuracy\" measure is the percentage of times\n",
        "    that our model is successful.\n",
        "\n",
        "    Args:\n",
        "       - model: the autoencoder model, an instance of nn.Module\n",
        "       - data_loader: an instance of torch.utils.data.DataLoader\n",
        "\n",
        "    Example (to illustrate how get_accuracy is intended to be called.\n",
        "             Depending on your variable naming this code might require\n",
        "             modification.)\n",
        "\n",
        "        >>> model = AutoEncoder()\n",
        "        >>> vdl = torch.utils.data.DataLoader(data_valid, batch_size=256, shuffle=True)\n",
        "        >>> get_accuracy(model, vdl)\n",
        "    \"\"\"\n",
        "    total = 0\n",
        "    acc = 0\n",
        "    for col in catcols:\n",
        "        for item in data_loader: # minibatches\n",
        "            inp = item.detach().numpy()\n",
        "            out = model(zero_out_feature(item.clone(), col)).detach().numpy()\n",
        "            for i in range(out.shape[0]): # record in minibatch\n",
        "                acc += int(get_feature(out[i], col) == get_feature(inp[i], col))\n",
        "                total += 1\n",
        "    return acc / total"
      ]
    },
    {
      "cell_type": "markdown",
      "metadata": {
        "id": "SxCTlXoV1prB"
      },
      "source": [
        "### Part (c) [4 pt]\n",
        "\n",
        "Run your updated training code, using reasonable initial hyperparameters.\n",
        "\n",
        "Include your training curve in your submission."
      ]
    },
    {
      "cell_type": "code",
      "execution_count": 27,
      "metadata": {
        "collapsed": true,
        "id": "nj5b71l-1prC",
        "jupyter": {
          "outputs_hidden": true
        }
      },
      "outputs": [],
      "source": [
        "train_loader = torch.utils.data.DataLoader(train_set, batch_size=64, num_workers=1, shuffle = True)\n",
        "val_loader = torch.utils.data.DataLoader(val_set, batch_size=64, num_workers=1, shuffle = True)\n",
        "test_loader = torch.utils.data.DataLoader(test_set, batch_size=64, num_workers=1, shuffle = True)"
      ]
    },
    {
      "cell_type": "code",
      "source": [
        "autoencoder = AutoEncoder()\n",
        "train(autoencoder, train_loader, val_loader, num_epochs=20, learning_rate=0.001)"
      ],
      "metadata": {
        "colab": {
          "base_uri": "https://localhost:8080/",
          "height": 1000
        },
        "id": "snUxW0V0oDmH",
        "outputId": "c6b74f60-527c-433a-e769-738b827d7e4c"
      },
      "execution_count": 28,
      "outputs": [
        {
          "output_type": "stream",
          "name": "stdout",
          "text": [
            "Epoch 1: Train acc: 0.5444609803739187, Train loss: 0.0875577543273524 |Validation acc: 0.5465133101851852, Validation loss: 0.05453798562696535\n",
            "Epoch 2: Train acc: 0.5664821877034695, Train loss: 0.06851536118014429 |Validation acc: 0.5696976273148148, Validation loss: 0.04503573028192128\n",
            "Epoch 3: Train acc: 0.5969057141971289, Train loss: 0.059828605333009016 |Validation acc: 0.5954861111111112, Validation loss: 0.03828441438405481\n",
            "Epoch 4: Train acc: 0.5850386010603664, Train loss: 0.05436250148375681 |Validation acc: 0.58203125, Validation loss: 0.03676271423289221\n",
            "Epoch 5: Train acc: 0.6048972188633616, Train loss: 0.050651768816370187 |Validation acc: 0.6048177083333334, Validation loss: 0.03402676338916772\n",
            "Epoch 6: Train acc: 0.5983009332465197, Train loss: 0.047740415012926585 |Validation acc: 0.5953052662037037, Validation loss: 0.03264219676182695\n",
            "Epoch 7: Train acc: 0.6061606672247543, Train loss: 0.04540453145428511 |Validation acc: 0.6013816550925926, Validation loss: 0.030740295779215148\n",
            "Epoch 8: Train acc: 0.611315226490559, Train loss: 0.0435588821788156 |Validation acc: 0.6066984953703703, Validation loss: 0.029547847603281885\n",
            "Epoch 9: Train acc: 0.6086023005611881, Train loss: 0.04202611341949337 |Validation acc: 0.6037688078703703, Validation loss: 0.029499147929353257\n",
            "Epoch 10: Train acc: 0.6093386661705887, Train loss: 0.04073177231600404 |Validation acc: 0.6066623263888888, Validation loss: 0.028447195964112673\n",
            "Epoch 11: Train acc: 0.6101292902985769, Train loss: 0.03962161459637343 |Validation acc: 0.6065176504629629, Validation loss: 0.027865624080782067\n",
            "Epoch 12: Train acc: 0.6103850804576318, Train loss: 0.03864757147516724 |Validation acc: 0.6063729745370371, Validation loss: 0.02687737822838842\n",
            "Epoch 13: Train acc: 0.6100905342138716, Train loss: 0.03775222491857511 |Validation acc: 0.6061921296296297, Validation loss: 0.026610759074149067\n",
            "Epoch 14: Train acc: 0.6145319815210988, Train loss: 0.036928576953891235 |Validation acc: 0.6087239583333334, Validation loss: 0.025486010062980326\n",
            "Epoch 15: Train acc: 0.6173146684029392, Train loss: 0.03618484193359758 |Validation acc: 0.6137514467592593, Validation loss: 0.025140331267085793\n",
            "Epoch 16: Train acc: 0.6155551421573187, Train loss: 0.03549527022513023 |Validation acc: 0.6101707175925926, Validation loss: 0.02454866144857178\n",
            "Epoch 17: Train acc: 0.6211902768734692, Train loss: 0.034855441746031175 |Validation acc: 0.6163556134259259, Validation loss: 0.024029499583252487\n",
            "Epoch 18: Train acc: 0.6283446501100672, Train loss: 0.03424697657186426 |Validation acc: 0.6240234375, Validation loss: 0.02340716256262505\n",
            "Epoch 19: Train acc: 0.6313598735001396, Train loss: 0.03365178158420693 |Validation acc: 0.625, Validation loss: 0.022924601597941085\n",
            "Epoch 20: Train acc: 0.6289027377298236, Train loss: 0.03308956307802322 |Validation acc: 0.6230107060185185, Validation loss: 0.02203465669020398\n"
          ]
        },
        {
          "output_type": "display_data",
          "data": {
            "text/plain": [
              "<Figure size 640x480 with 1 Axes>"
            ],
            "image/png": "[encoded data removed]"
          },
          "metadata": {}
        },
        {
          "output_type": "display_data",
          "data": {
            "text/plain": [
              "<Figure size 640x480 with 1 Axes>"
            ],
            "image/png": "[encoded data removed]"
          },
          "metadata": {}
        }
      ]
    },
    {
      "cell_type": "markdown",
      "metadata": {
        "id": "h9xTwIf51prF"
      },
      "source": [
        "### Part (d) [5 pt]\n",
        "\n",
        "Tune your hyperparameters, training at least 4 different models (4 sets of hyperparameters).\n",
        "\n",
        "Do not include all your training curves. Instead, explain what hyperparameters\n",
        "you tried, what their effect was, and what your thought process was as you\n",
        "chose the next set of hyperparameters to try."
      ]
    },
    {
      "cell_type": "code",
      "execution_count": null,
      "metadata": {
        "collapsed": true,
        "id": "PhTKt9iL1prG",
        "jupyter": {
          "outputs_hidden": true
        }
      },
      "outputs": [],
      "source": [
        "# We can try increasing the number of epochs from 20 to 40 to see if the model accuracy continues to increase\n",
        "model_2 = AutoEncoder()\n",
        "train(model_2, train_loader, val_loader, num_epochs=40, learning_rate=0.001)\n",
        "# final training accuracy: 61.3%\n",
        "# final validation accuracy: 61.2%\n",
        "# accuracies decreased, so increasing the number of epochs didn't help as the accuracies still converge to about 61-62%"
      ]
    },
    {
      "cell_type": "code",
      "source": [
        "# The previous model accuracies were fluctuating/noisy, so we can try decreasing the learning rate from 0.001 to 0.0001 to reduce noise\n",
        "# Go back to 20 epochs as increasing the num_epochs did not help in model_2\n",
        "model_3 = AutoEncoder()\n",
        "train(model_3, train_loader, val_loader, num_epochs=20, learning_rate=0.0001)\n",
        "# The decreased learning rate reduced the noise significantly, however, the training and validation accuracies decreased to about 58.4% and 58.3% respectively"
      ],
      "metadata": {
        "collapsed": true,
        "id": "f1Vbvk_rQQgC"
      },
      "execution_count": null,
      "outputs": []
    },
    {
      "cell_type": "code",
      "source": [
        "# The validation loss curve for all of these models is lower than the training loss curve. (maybe the validation set is easier than the training set)\n",
        "# We could try reducing the complexity of the model (number of layers) to see if this would decrease the training loss.\n",
        "from torch import nn\n",
        "\n",
        "class AutoEncoder(nn.Module):\n",
        "    def __init__(self):\n",
        "        super(AutoEncoder, self).__init__()\n",
        "        self.name = \"autoencoder\"\n",
        "        self.encoder = nn.Sequential(\n",
        "            nn.Linear(57, 28),\n",
        "            nn.ReLU(),\n",
        "            nn.Linear(28, 11)\n",
        "        )\n",
        "        self.decoder = nn.Sequential(\n",
        "            nn.Linear(11, 28),\n",
        "            nn.ReLU(),\n",
        "            nn.Linear(28, 57),\n",
        "            nn.Sigmoid() # get to the range (0, 1)\n",
        "        )\n",
        "\n",
        "    def forward(self, x):\n",
        "        x = self.encoder(x)\n",
        "        x = self.decoder(x)\n",
        "        return x"
      ],
      "metadata": {
        "id": "EyxKX9dzVekN"
      },
      "execution_count": 31,
      "outputs": []
    },
    {
      "cell_type": "code",
      "source": [
        "# train the model after reducing the number of layers\n",
        "model_4 = AutoEncoder()\n",
        "train(model_4, train_loader, val_loader, num_epochs=20, learning_rate=0.0001)\n",
        "# this didn't change much, the training and validation accuracies are still at around 58%"
      ],
      "metadata": {
        "collapsed": true,
        "id": "UkMbsz60XDg0"
      },
      "execution_count": null,
      "outputs": []
    },
    {
      "cell_type": "code",
      "source": [
        "# Since reducing the number of layers didn't change the model's performance very much, we can try changing the number of hidden units\n",
        "# This change will hopefully help our model capture more complex patterns and increase the training and validation accuracies\n",
        "class AutoEncoder(nn.Module):\n",
        "    def __init__(self):\n",
        "        super(AutoEncoder, self).__init__()\n",
        "        self.name = \"autoencoder\"\n",
        "        self.encoder = nn.Sequential(\n",
        "            nn.Linear(57, 44),\n",
        "            nn.ReLU(),\n",
        "            nn.Linear(44, 11)\n",
        "        )\n",
        "        self.decoder = nn.Sequential(\n",
        "            nn.Linear(11, 44),\n",
        "            nn.ReLU(),\n",
        "            nn.Linear(44, 57),\n",
        "            nn.Sigmoid() # get to the range (0, 1)\n",
        "        )\n",
        "\n",
        "    def forward(self, x):\n",
        "        x = self.encoder(x)\n",
        "        x = self.decoder(x)\n",
        "        return x"
      ],
      "metadata": {
        "id": "fDiUHYKPYSxs"
      },
      "execution_count": 43,
      "outputs": []
    },
    {
      "cell_type": "code",
      "source": [
        "# Training the new model\n",
        "model_5 = AutoEncoder()\n",
        "train(model_5, train_loader, val_loader, num_epochs=20, learning_rate=0.001)\n",
        "# Increasing the number of hidden units helped the model reach higher training and validation accuracies of 63.8% and 63.1% respectively.\n",
        "# It also helped lower the final training loss from the previous model's 0.065 to 0.023"
      ],
      "metadata": {
        "collapsed": true,
        "id": "JR4LgYoTZdTt"
      },
      "execution_count": null,
      "outputs": []
    },
    {
      "cell_type": "code",
      "source": [
        "# Since the training and validation accuracies were still increasing near the end (epoch 20), I increased the number of epochs to 30 to see if the\n",
        "# values would start to converge. I also increased the learning rate to 0.01 to speed up the process.\n",
        "model_6 = AutoEncoder()\n",
        "train(model_6, train_loader, val_loader, num_epochs=30, learning_rate=0.01)\n",
        "# This increased the training accuracy to 70.5% and the validation accuracy to 70.1%"
      ],
      "metadata": {
        "id": "GS_25U5XhbbO"
      },
      "execution_count": null,
      "outputs": []
    },
    {
      "cell_type": "code",
      "source": [
        "# Increasing the number of epochs to 100 because the accuracies were still increasing\n",
        "model_7 = AutoEncoder()\n",
        "train(model_7, train_loader, val_loader, num_epochs=100, learning_rate=0.01)\n",
        "# Reached training accuracy of 71.8% and validation accuracy of 71.5%\n",
        "# The curves are quite noisy, so we'll decrease the learning rate a bit for the next model"
      ],
      "metadata": {
        "colab": {
          "base_uri": "https://localhost:8080/",
          "height": 1000
        },
        "id": "teeitm3nlrxE",
        "outputId": "048e1485-111c-4235-f756-19302ba8c1d2"
      },
      "execution_count": 45,
      "outputs": [
        {
          "output_type": "stream",
          "name": "stdout",
          "text": [
            "Epoch 1: Train acc: 0.6080907202430782, Train loss: 0.04179625214251637 |Validation acc: 0.6059751157407407, Validation loss: 0.023106585754311248\n",
            "Epoch 2: Train acc: 0.6227947787802685, Train loss: 0.03080749641522699 |Validation acc: 0.6211660879629629, Validation loss: 0.017387430642871824\n",
            "Epoch 3: Train acc: 0.6124158992961894, Train loss: 0.025934358164335796 |Validation acc: 0.6106409143518519, Validation loss: 0.015490335769543093\n",
            "Epoch 4: Train acc: 0.609237900350355, Train loss: 0.02313159450847088 |Validation acc: 0.6091218171296297, Validation loss: 0.015088134228366695\n",
            "Epoch 5: Train acc: 0.6412581775338728, Train loss: 0.021219612880411035 |Validation acc: 0.6355975115740741, Validation loss: 0.013130232557807474\n",
            "Epoch 6: Train acc: 0.6379716615508635, Train loss: 0.01989763161101936 |Validation acc: 0.6328486689814815, Validation loss: 0.013639113030154002\n",
            "Epoch 7: Train acc: 0.6465832635723808, Train loss: 0.01890605142837983 |Validation acc: 0.6408058449074074, Validation loss: 0.011748637136531202\n",
            "Epoch 8: Train acc: 0.6339487799584534, Train loss: 0.01808439933183347 |Validation acc: 0.6312210648148148, Validation loss: 0.013183774171422606\n",
            "Epoch 9: Train acc: 0.6428161721390259, Train loss: 0.017417469469537913 |Validation acc: 0.6372612847222222, Validation loss: 0.011315345419698383\n",
            "Epoch 10: Train acc: 0.6549390754348433, Train loss: 0.01682471423220068 |Validation acc: 0.6484375, Validation loss: 0.010970012297573155\n",
            "Epoch 11: Train acc: 0.6483272873841193, Train loss: 0.01632803018342916 |Validation acc: 0.6460141782407407, Validation loss: 0.011524576649120818\n",
            "Epoch 12: Train acc: 0.6484590580721173, Train loss: 0.015905071146859646 |Validation acc: 0.6425057870370371, Validation loss: 0.011073662861161036\n",
            "Epoch 13: Train acc: 0.6618066536446222, Train loss: 0.015574359977754287 |Validation acc: 0.6545862268518519, Validation loss: 0.011338913328435323\n",
            "Epoch 14: Train acc: 0.6744101323907854, Train loss: 0.015237370597675649 |Validation acc: 0.6695601851851852, Validation loss: 0.0100660755439368\n",
            "Epoch 15: Train acc: 0.6736505131305615, Train loss: 0.014935918740113059 |Validation acc: 0.6694878472222222, Validation loss: 0.010556186236798356\n",
            "Epoch 16: Train acc: 0.670728304343782, Train loss: 0.014710315327377085 |Validation acc: 0.6676793981481481, Validation loss: 0.010268289417232552\n",
            "Epoch 17: Train acc: 0.6833782903915915, Train loss: 0.014457514789705334 |Validation acc: 0.6804470486111112, Validation loss: 0.010299753888880145\n",
            "Epoch 18: Train acc: 0.6749604687936006, Train loss: 0.014238031552945937 |Validation acc: 0.6709346064814815, Validation loss: 0.010756132282214621\n",
            "Epoch 19: Train acc: 0.6799212476358788, Train loss: 0.014053471885641967 |Validation acc: 0.6754557291666666, Validation loss: 0.01044614522475494\n",
            "Epoch 20: Train acc: 0.6876724645769385, Train loss: 0.013886030483720698 |Validation acc: 0.6864872685185185, Validation loss: 0.010012242936669555\n",
            "Epoch 21: Train acc: 0.6647598672991659, Train loss: 0.013746797019893965 |Validation acc: 0.6633391203703703, Validation loss: 0.010581668223930548\n",
            "Epoch 22: Train acc: 0.676301429324404, Train loss: 0.013608244924307077 |Validation acc: 0.6728877314814815, Validation loss: 0.010781786570402041\n",
            "Epoch 23: Train acc: 0.6813784764207981, Train loss: 0.013464596414016042 |Validation acc: 0.6775535300925926, Validation loss: 0.010038595844366371\n",
            "Epoch 24: Train acc: 0.6908194586550088, Train loss: 0.013336294850418824 |Validation acc: 0.6868851273148148, Validation loss: 0.009750136161503727\n",
            "Epoch 25: Train acc: 0.6927960189749791, Train loss: 0.013209259988405959 |Validation acc: 0.6908998842592593, Validation loss: 0.009561634201505412\n",
            "Epoch 26: Train acc: 0.6775881313366199, Train loss: 0.013087279756796615 |Validation acc: 0.6746961805555556, Validation loss: 0.010646969386159557\n",
            "Epoch 27: Train acc: 0.6950671255387095, Train loss: 0.012993073340652764 |Validation acc: 0.6903935185185185, Validation loss: 0.010104374341309478\n",
            "Epoch 28: Train acc: 0.6904318978079559, Train loss: 0.012882185052705773 |Validation acc: 0.6886212384259259, Validation loss: 0.009233439041378156\n",
            "Epoch 29: Train acc: 0.6925712336836883, Train loss: 0.012785175221094364 |Validation acc: 0.6904296875, Validation loss: 0.010138386356555028\n",
            "Epoch 30: Train acc: 0.6930285554832109, Train loss: 0.012665028082606498 |Validation acc: 0.6893084490740741, Validation loss: 0.009441817479131564\n",
            "Epoch 31: Train acc: 0.6663721204229064, Train loss: 0.012574670828752462 |Validation acc: 0.6623263888888888, Validation loss: 0.010661156258022744\n",
            "Epoch 32: Train acc: 0.6928657799274486, Train loss: 0.01248986968990354 |Validation acc: 0.6871744791666666, Validation loss: 0.009327917806293867\n",
            "Epoch 33: Train acc: 0.6959817691377547, Train loss: 0.012404620524411686 |Validation acc: 0.6936487268518519, Validation loss: 0.009562364218067634\n",
            "Epoch 34: Train acc: 0.6881607912442254, Train loss: 0.012314792950505174 |Validation acc: 0.6827256944444444, Validation loss: 0.009047369568366301\n",
            "Epoch 35: Train acc: 0.6937029113570831, Train loss: 0.012234220226425872 |Validation acc: 0.6910807291666666, Validation loss: 0.01061521363380837\n",
            "Epoch 36: Train acc: 0.6902846246860758, Train loss: 0.01215425442230282 |Validation acc: 0.6864872685185185, Validation loss: 0.009664358941149222\n",
            "Epoch 37: Train acc: 0.6962685641645738, Train loss: 0.012083750362087394 |Validation acc: 0.6946252893518519, Validation loss: 0.00875521504498814\n",
            "Epoch 38: Train acc: 0.7004542213127462, Train loss: 0.012003375196859926 |Validation acc: 0.6989293981481481, Validation loss: 0.009606483583785084\n",
            "Epoch 39: Train acc: 0.6994543143273494, Train loss: 0.011927869334924953 |Validation acc: 0.6946976273148148, Validation loss: 0.009434481569221371\n",
            "Epoch 40: Train acc: 0.6991985241682944, Train loss: 0.011844373911462038 |Validation acc: 0.6960720486111112, Validation loss: 0.009013552556758465\n",
            "Epoch 41: Train acc: 0.6661085790469103, Train loss: 0.011777819405809622 |Validation acc: 0.6618561921296297, Validation loss: 0.009712621761001137\n",
            "Epoch 42: Train acc: 0.7036399714755217, Train loss: 0.011727491262232456 |Validation acc: 0.6975911458333334, Validation loss: 0.008513597567399887\n",
            "Epoch 43: Train acc: 0.6887188788639816, Train loss: 0.011666412918962947 |Validation acc: 0.6853298611111112, Validation loss: 0.009093161248155448\n",
            "Epoch 44: Train acc: 0.7088022819582674, Train loss: 0.011607007031956681 |Validation acc: 0.7093822337962963, Validation loss: 0.00781378834125624\n",
            "Epoch 45: Train acc: 0.7014541282981428, Train loss: 0.011535302959780414 |Validation acc: 0.7000144675925926, Validation loss: 0.00879778779328686\n",
            "Epoch 46: Train acc: 0.7083604625926271, Train loss: 0.011470540669097355 |Validation acc: 0.705078125, Validation loss: 0.00824822167457681\n",
            "Epoch 47: Train acc: 0.6982606269184262, Train loss: 0.011407732994094037 |Validation acc: 0.6948784722222222, Validation loss: 0.009002769244707201\n",
            "Epoch 48: Train acc: 0.7071667751837039, Train loss: 0.011342426895397982 |Validation acc: 0.7049334490740741, Validation loss: 0.009312373190505863\n",
            "Epoch 49: Train acc: 0.7025703035376554, Train loss: 0.011290572269053521 |Validation acc: 0.7020037615740741, Validation loss: 0.008490298782181863\n",
            "Epoch 50: Train acc: 0.701733172108021, Train loss: 0.01123437866805595 |Validation acc: 0.6986762152777778, Validation loss: 0.008259699855331485\n",
            "Epoch 51: Train acc: 0.7069497411093542, Train loss: 0.011179877711409344 |Validation acc: 0.7041015625, Validation loss: 0.008878755689381736\n",
            "Epoch 52: Train acc: 0.687455430502589, Train loss: 0.011131259579612722 |Validation acc: 0.6835575810185185, Validation loss: 0.008610790844190202\n",
            "Epoch 53: Train acc: 0.7020432207856634, Train loss: 0.011083729581224314 |Validation acc: 0.6998336226851852, Validation loss: 0.008842424352410925\n",
            "Epoch 54: Train acc: 0.6989427340092395, Train loss: 0.01103176856346759 |Validation acc: 0.6963252314814815, Validation loss: 0.009377058665587069\n",
            "Epoch 55: Train acc: 0.6867810746287167, Train loss: 0.010991274128133284 |Validation acc: 0.6829065393518519, Validation loss: 0.0096456423204086\n",
            "Epoch 56: Train acc: 0.714073109478188, Train loss: 0.01094749773305721 |Validation acc: 0.7089482060185185, Validation loss: 0.00870209758182707\n",
            "Epoch 57: Train acc: 0.7145459337115927, Train loss: 0.01089313710943784 |Validation acc: 0.7115885416666666, Validation loss: 0.009148997133470152\n",
            "Epoch 58: Train acc: 0.7077171115865191, Train loss: 0.010842444935018942 |Validation acc: 0.7047526041666666, Validation loss: 0.008432217133677986\n",
            "Epoch 59: Train acc: 0.7142358850339503, Train loss: 0.010802539469624903 |Validation acc: 0.7128182870370371, Validation loss: 0.007539177508004112\n",
            "Epoch 60: Train acc: 0.7030198741202369, Train loss: 0.010763148917444208 |Validation acc: 0.7029441550925926, Validation loss: 0.008904942891828409\n",
            "Epoch 61: Train acc: 0.715886894242396, Train loss: 0.010725303990205713 |Validation acc: 0.7135054976851852, Validation loss: 0.008112211408705949\n",
            "Epoch 62: Train acc: 0.714321148420302, Train loss: 0.01068862505378591 |Validation acc: 0.7120587384259259, Validation loss: 0.008320797591993254\n",
            "Epoch 63: Train acc: 0.6979428270238427, Train loss: 0.010657653991879387 |Validation acc: 0.6944082754629629, Validation loss: 0.007972851216997185\n",
            "Epoch 64: Train acc: 0.7159644064118067, Train loss: 0.01062427469257675 |Validation acc: 0.7130714699074074, Validation loss: 0.008021459831817918\n",
            "Epoch 65: Train acc: 0.7146234458810033, Train loss: 0.01058519870360647 |Validation acc: 0.7106481481481481, Validation loss: 0.008274216584427512\n",
            "Epoch 66: Train acc: 0.7021517378228382, Train loss: 0.010553811171065259 |Validation acc: 0.6961443865740741, Validation loss: 0.008392217875241416\n",
            "Epoch 67: Train acc: 0.7186540786903544, Train loss: 0.010524515516452261 |Validation acc: 0.7150607638888888, Validation loss: 0.008539626623618684\n",
            "Epoch 68: Train acc: 0.720026044088922, Train loss: 0.01048737865847573 |Validation acc: 0.7188946759259259, Validation loss: 0.007897517328112297\n",
            "Epoch 69: Train acc: 0.7068179704213562, Train loss: 0.010454542649050635 |Validation acc: 0.7029079861111112, Validation loss: 0.008697588066889406\n",
            "Epoch 70: Train acc: 0.6892537128329148, Train loss: 0.010425667392344878 |Validation acc: 0.6874276620370371, Validation loss: 0.008453057112478434\n",
            "Epoch 71: Train acc: 0.7056940439649025, Train loss: 0.010399360645461849 |Validation acc: 0.7021484375, Validation loss: 0.00792695353547596\n",
            "Epoch 72: Train acc: 0.6893777323039717, Train loss: 0.010370409751306094 |Validation acc: 0.6869212962962963, Validation loss: 0.007828648517877883\n",
            "Epoch 73: Train acc: 0.709786686509782, Train loss: 0.010337665194503978 |Validation acc: 0.7075014467592593, Validation loss: 0.008743983942198835\n",
            "Epoch 74: Train acc: 0.7135925340278424, Train loss: 0.01030386891999789 |Validation acc: 0.7101779513888888, Validation loss: 0.008708809202613488\n",
            "Epoch 75: Train acc: 0.7039267665023409, Train loss: 0.010279817171001616 |Validation acc: 0.7010633680555556, Validation loss: 0.00840111117975863\n",
            "Epoch 76: Train acc: 0.7118097541313986, Train loss: 0.010240664697319062 |Validation acc: 0.7090567129629629, Validation loss: 0.006845256991442038\n",
            "Epoch 77: Train acc: 0.7102207546584813, Train loss: 0.010217899079580896 |Validation acc: 0.7071397569444444, Validation loss: 0.008240811510828056\n",
            "Epoch 78: Train acc: 0.707965150528633, Train loss: 0.010187899930825995 |Validation acc: 0.7057291666666666, Validation loss: 0.00832125992029395\n",
            "Epoch 79: Train acc: 0.7090968282020277, Train loss: 0.010160126881054688 |Validation acc: 0.7034866898148148, Validation loss: 0.00870045280237108\n",
            "Epoch 80: Train acc: 0.7189253712832915, Train loss: 0.010141888707331221 |Validation acc: 0.7153139467592593, Validation loss: 0.007551413823608054\n",
            "Epoch 81: Train acc: 0.7028493473475336, Train loss: 0.01011108140640092 |Validation acc: 0.6990017361111112, Validation loss: 0.008158530366976988\n",
            "Epoch 82: Train acc: 0.7138560754038384, Train loss: 0.010084705611855862 |Validation acc: 0.7119502314814815, Validation loss: 0.008394942714590323\n",
            "Epoch 83: Train acc: 0.7174293864136669, Train loss: 0.010058419183233391 |Validation acc: 0.7136863425925926, Validation loss: 0.007537633078555538\n",
            "Epoch 84: Train acc: 0.7190803956221127, Train loss: 0.010033932288583167 |Validation acc: 0.7165075231481481, Validation loss: 0.007729782196629333\n",
            "Epoch 85: Train acc: 0.7189718785849378, Train loss: 0.010008236627626418 |Validation acc: 0.7148799189814815, Validation loss: 0.007895352156220437\n",
            "Epoch 86: Train acc: 0.6810064180076272, Train loss: 0.009984839292595611 |Validation acc: 0.6743344907407407, Validation loss: 0.009892990477765873\n",
            "Epoch 87: Train acc: 0.714832728738412, Train loss: 0.00996252292441588 |Validation acc: 0.7115885416666666, Validation loss: 0.0072064817857558595\n",
            "Epoch 88: Train acc: 0.7197547514959849, Train loss: 0.009938508168732292 |Validation acc: 0.7145905671296297, Validation loss: 0.007874751201996657\n",
            "Epoch 89: Train acc: 0.7092518525408489, Train loss: 0.009914879849995117 |Validation acc: 0.7068142361111112, Validation loss: 0.008626810849121171\n",
            "Epoch 90: Train acc: 0.7168945524447338, Train loss: 0.009897608736221888 |Validation acc: 0.7136140046296297, Validation loss: 0.00775115177583919\n",
            "Epoch 91: Train acc: 0.7160264161473351, Train loss: 0.009881069222641663 |Validation acc: 0.7107204861111112, Validation loss: 0.008220253607947123\n",
            "Epoch 92: Train acc: 0.7129879391064398, Train loss: 0.009862906984402123 |Validation acc: 0.7119502314814815, Validation loss: 0.007959633593587843\n",
            "Epoch 93: Train acc: 0.6663488667720833, Train loss: 0.009840207343051018 |Validation acc: 0.6640263310185185, Validation loss: 0.00969855153729042\n",
            "Epoch 94: Train acc: 0.7159256503271013, Train loss: 0.009818991256064108 |Validation acc: 0.7119502314814815, Validation loss: 0.00819293351856711\n",
            "Epoch 95: Train acc: 0.715491582178402, Train loss: 0.009799278858189823 |Validation acc: 0.7145905671296297, Validation loss: 0.007314023852016623\n",
            "Epoch 96: Train acc: 0.7199562831364524, Train loss: 0.009775380563616935 |Validation acc: 0.7150969328703703, Validation loss: 0.00789672641836311\n",
            "Epoch 97: Train acc: 0.7061746194152482, Train loss: 0.009759749031340345 |Validation acc: 0.7045355902777778, Validation loss: 0.00793781233568714\n",
            "Epoch 98: Train acc: 0.7202198245124485, Train loss: 0.009743289935233499 |Validation acc: 0.7177734375, Validation loss: 0.007053990500711211\n",
            "Epoch 99: Train acc: 0.712507363656094, Train loss: 0.009721964537301845 |Validation acc: 0.7080439814814815, Validation loss: 0.007319571651288704\n",
            "Epoch 100: Train acc: 0.717956469165659, Train loss: 0.009698775364948727 |Validation acc: 0.7150969328703703, Validation loss: 0.007665557598644127\n"
          ]
        },
        {
          "output_type": "display_data",
          "data": {
            "text/plain": [
              "<Figure size 640x480 with 1 Axes>"
            ],
            "image/png": "[encoded data removed]"
          },
          "metadata": {}
        },
        {
          "output_type": "display_data",
          "data": {
            "text/plain": [
              "<Figure size 640x480 with 1 Axes>"
            ],
            "image/png": "[encoded data removed]"
          },
          "metadata": {}
        }
      ]
    },
    {
      "cell_type": "code",
      "source": [
        "# Decreased the learning rate to 0.00001 and increased the number of epochs to 150 to see if we could achieve less noise and similar accuracies\n",
        "model_8 = AutoEncoder()\n",
        "train(model_8, train_loader, val_loader, num_epochs=150, learning_rate=0.00001)\n",
        "# Much less noise, but the training and validation accuracies decreased to 60.4% and 60.5%"
      ],
      "metadata": {
        "id": "v3dHccfBqOfl"
      },
      "execution_count": null,
      "outputs": []
    },
    {
      "cell_type": "markdown",
      "source": [
        "Chose model_7 as the final model, because it reached the highest training and validation accuracies."
      ],
      "metadata": {
        "id": "KF6wzNO-KQ8w"
      }
    },
    {
      "cell_type": "markdown",
      "metadata": {
        "id": "ymCsZH291prI"
      },
      "source": [
        "## Part 4. Testing [12 pt]\n",
        "\n",
        "### Part (a) [2 pt]\n",
        "\n",
        "Compute and report the test accuracy."
      ]
    },
    {
      "cell_type": "code",
      "execution_count": 49,
      "metadata": {
        "collapsed": true,
        "id": "0OkSbup91prJ",
        "jupyter": {
          "outputs_hidden": true
        },
        "colab": {
          "base_uri": "https://localhost:8080/"
        },
        "outputId": "42b21f35-c86b-4d80-c096-12616e49389e"
      },
      "outputs": [
        {
          "output_type": "stream",
          "name": "stdout",
          "text": [
            "The test accuracy is 71.19140625%\n"
          ]
        }
      ],
      "source": [
        "test_acc = get_accuracy(model_7, test_loader)\n",
        "print(\"The test accuracy is \" + str(test_acc*100) + \"%\")"
      ]
    },
    {
      "cell_type": "markdown",
      "metadata": {
        "id": "UEe9yt6L1prM"
      },
      "source": [
        "### Part (b) [4 pt]\n",
        "\n",
        "Based on the test accuracy alone, it is difficult to assess whether our model\n",
        "is actually performing well. We don't know whether a high accuracy is due to\n",
        "the simplicity of the problem, or if a poor accuracy is a result of the inherent\n",
        "difficulty of the problem.\n",
        "\n",
        "It is therefore very important to be able to compare our model to at least one\n",
        "alternative. In particular, we consider a simple **baseline**\n",
        "model that is not very computationally expensive. Our neural network\n",
        "should at least outperform this baseline model. If our network is not much\n",
        "better than the baseline, then it is not doing well.\n",
        "\n",
        "For our data imputation problem, consider the following baseline model:\n",
        "to predict a missing feature, the baseline model will look at the **most common value** of the feature in the training set.\n",
        "\n",
        "For example, if the feature \"marriage\" is missing, then this model's prediction will be the most common value for \"marriage\" in the training set, which happens to be \"Married-civ-spouse\".\n",
        "\n",
        "What would be the test accuracy of this baseline model?\n"
      ]
    },
    {
      "cell_type": "code",
      "execution_count": 31,
      "metadata": {
        "collapsed": true,
        "id": "p45VHp011prN",
        "jupyter": {
          "outputs_hidden": true
        }
      },
      "outputs": [],
      "source": [
        "most_common_values = {}\n",
        "for col in catcols:\n",
        "    most_common_values[col] = df[col].mode()[0]"
      ]
    },
    {
      "cell_type": "code",
      "source": [
        "most_common_values"
      ],
      "metadata": {
        "colab": {
          "base_uri": "https://localhost:8080/"
        },
        "id": "fKry9q3EG5hp",
        "outputId": "31cf406d-b197-45ad-dae3-104b1e2ad308"
      },
      "execution_count": 32,
      "outputs": [
        {
          "output_type": "execute_result",
          "data": {
            "text/plain": [
              "{'work': ' Private',\n",
              " 'marriage': ' Married-civ-spouse',\n",
              " 'occupation': ' Prof-specialty',\n",
              " 'edu': ' HS-grad',\n",
              " 'relationship': ' Husband',\n",
              " 'sex': ' Male'}"
            ]
          },
          "metadata": {},
          "execution_count": 32
        }
      ]
    },
    {
      "cell_type": "code",
      "source": [
        "def baseline_model(most_common_values, feature):\n",
        "  matches = 0\n",
        "  total_records = len(df_not_missing[feature])\n",
        "\n",
        "  for idx in range(total_records):\n",
        "      if df_not_missing[feature].iloc[idx] == most_common_values[feature]:\n",
        "          matches += 1\n",
        "\n",
        "  baseline_acc = matches / total_records\n",
        "  print(\"The baseline model accuracy of the \\\"\" + str(feature) + \"\\\" feature is \" + str(baseline_acc*100) + \"%\")\n"
      ],
      "metadata": {
        "id": "e4emo4vQTFJu"
      },
      "execution_count": 35,
      "outputs": []
    },
    {
      "cell_type": "code",
      "source": [
        "baseline_model(most_common_values, \"marriage\")\n",
        "baseline_model(most_common_values, \"edu\")\n",
        "baseline_model(most_common_values, \"work\")\n",
        "baseline_model(most_common_values, \"occupation\")\n",
        "baseline_model(most_common_values, \"relationship\")\n",
        "baseline_model(most_common_values, \"sex\")"
      ],
      "metadata": {
        "colab": {
          "base_uri": "https://localhost:8080/"
        },
        "id": "V-vjZg3BTXnc",
        "outputId": "9ff2d4e0-3026-4448-a4bb-9a20e27adb94"
      },
      "execution_count": 36,
      "outputs": [
        {
          "output_type": "stream",
          "name": "stdout",
          "text": [
            "The baseline model accuracy of the \"marriage\" feature is 46.67947131974738%\n",
            "The baseline model accuracy of the \"edu\" feature is 32.450029298782475%\n",
            "The baseline model accuracy of the \"work\" feature is 73.88501855589557%\n",
            "The baseline model accuracy of the \"occupation\" feature is 13.47743993749593%\n",
            "The baseline model accuracy of the \"relationship\" feature is 41.35685917051891%\n",
            "The baseline model accuracy of the \"sex\" feature is 67.67367667165831%\n"
          ]
        }
      ]
    },
    {
      "cell_type": "markdown",
      "source": [
        "If you average all the feature accuracies, you get an overall accuracy of 45.92%."
      ],
      "metadata": {
        "id": "iSR6hIC-Qv9k"
      }
    },
    {
      "cell_type": "markdown",
      "metadata": {
        "id": "QlHu0wxh1prP"
      },
      "source": [
        "### Part (c) [1 pt]\n",
        "\n",
        "How does your test accuracy from part (a) compared to your basline test accuracy in part (b)?"
      ]
    },
    {
      "cell_type": "markdown",
      "source": [
        "The accuracy from part (a) is 71.2% and the accuracy for part (b) is 45.92%. Therefore, the accuracy from our autoencoder model is much higher than the baseline model accuracy."
      ],
      "metadata": {
        "id": "EUDav3slSXl2"
      }
    },
    {
      "cell_type": "markdown",
      "metadata": {
        "id": "DfQPgu1Q1prS"
      },
      "source": [
        "### Part (d) [1 pt]\n",
        "\n",
        "Look at the first item in your test data.\n",
        "Do you think it is reasonable for a human\n",
        "to be able to guess this person's education level\n",
        "based on their other features? Explain."
      ]
    },
    {
      "cell_type": "code",
      "execution_count": 93,
      "metadata": {
        "collapsed": true,
        "id": "3qbQ1vvT1prT",
        "jupyter": {
          "outputs_hidden": true
        },
        "colab": {
          "base_uri": "https://localhost:8080/"
        },
        "outputId": "8aee9a4b-aa53-46da-d4e1-f6372c4ba0b1"
      },
      "outputs": [
        {
          "output_type": "execute_result",
          "data": {
            "text/plain": [
              "{'work': 'Private',\n",
              " 'marriage': 'Divorced',\n",
              " 'occupation': 'Prof-specialty',\n",
              " 'edu': 'Bachelors',\n",
              " 'relationship': 'Not-in-family',\n",
              " 'sex': 'Male'}"
            ]
          },
          "metadata": {},
          "execution_count": 93
        }
      ],
      "source": [
        "get_features(test_set[0])"
      ]
    },
    {
      "cell_type": "markdown",
      "source": [
        "No, I don't think it's reasonable. Personally, if I were to estimate someone's education level, I would primarily look at occupation and work because I think features such as marriage and relationship have much less of an impact on their education level. However, from this person's occupation: 'Prof-specialty', I would've assumed they had higher than a bachelors because in my opinion you need a lot of experience/research to be a specialist at something. Overall, I think different people would have given different predictions for this person's education level (biased depending on the person and how much they weigh the importance of each feature to the one they are predicting)."
      ],
      "metadata": {
        "id": "J2QyYMrsVDym"
      }
    },
    {
      "cell_type": "markdown",
      "metadata": {
        "id": "p_d5uuAY1prZ"
      },
      "source": [
        "### Part (e) [2 pt]\n",
        "\n",
        "What is your model's prediction of this person's education\n",
        "level, given their other features?\n"
      ]
    },
    {
      "cell_type": "code",
      "execution_count": 100,
      "metadata": {
        "collapsed": true,
        "id": "kBY5gKXR1pra",
        "jupyter": {
          "outputs_hidden": true
        },
        "colab": {
          "base_uri": "https://localhost:8080/",
          "height": 35
        },
        "outputId": "ede327b5-cbc9-4608-ec36-b681f7bad7df"
      },
      "outputs": [
        {
          "output_type": "execute_result",
          "data": {
            "text/plain": [
              "'Bachelors'"
            ],
            "application/vnd.google.colaboratory.intrinsic+json": {
              "type": "string"
            }
          },
          "metadata": {},
          "execution_count": 100
        }
      ],
      "source": [
        "zero_edu = torch.from_numpy(zero_out_feature(test_set[:1], \"edu\")[0])\n",
        "predict = model_7(zero_edu)\n",
        "get_feature(predict.detach().numpy(), \"edu\")"
      ]
    },
    {
      "cell_type": "markdown",
      "source": [
        "model_7's prediction of this person's education level is Bachelors, which is correct."
      ],
      "metadata": {
        "id": "RpbOhW7ndVLc"
      }
    },
    {
      "cell_type": "markdown",
      "metadata": {
        "id": "fdLNA0ce1prd"
      },
      "source": [
        "### Part (f) [2 pt]\n",
        "\n",
        "What is the baseline model's prediction\n",
        "of this person's education level?"
      ]
    },
    {
      "cell_type": "code",
      "execution_count": 107,
      "metadata": {
        "collapsed": true,
        "id": "TXgoM9qk1prd",
        "jupyter": {
          "outputs_hidden": true
        },
        "colab": {
          "base_uri": "https://localhost:8080/",
          "height": 35
        },
        "outputId": "f4d90df1-44bb-4509-ecf2-e4277e8038e2"
      },
      "outputs": [
        {
          "output_type": "execute_result",
          "data": {
            "text/plain": [
              "' HS-grad'"
            ],
            "application/vnd.google.colaboratory.intrinsic+json": {
              "type": "string"
            }
          },
          "metadata": {},
          "execution_count": 107
        }
      ],
      "source": [
        "most_common_values[\"edu\"]"
      ]
    },
    {
      "cell_type": "markdown",
      "source": [
        "The baseline model's prediction of this person's education level is HS-grad, which is incorrect (majority of the people the data was collected from were high school graduates)."
      ],
      "metadata": {
        "id": "Cj-eaWeddAxb"
      }
    }
  ],
  "metadata": {
    "colab": {
      "provenance": []
    },
    "kernelspec": {
      "display_name": "Python 3 (ipykernel)",
      "language": "python",
      "name": "python3"
    },
    "language_info": {
      "codemirror_mode": {
        "name": "ipython",
        "version": 3
      },
      "file_extension": ".py",
      "mimetype": "text/x-python",
      "name": "python",
      "nbconvert_exporter": "python",
      "pygments_lexer": "ipython3",
      "version": "3.9.4"
    }
  },
  "nbformat": 4,
  "nbformat_minor": 0
}